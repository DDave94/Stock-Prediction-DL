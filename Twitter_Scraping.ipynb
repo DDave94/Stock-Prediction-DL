{
 "cells": [
  {
   "cell_type": "code",
   "execution_count": 1,
   "metadata": {},
   "outputs": [],
   "source": [
    "#Importing required libs\n",
    "import snscrape.modules.twitter as sntwitter\n",
    "import pandas as pd\n",
    "import datetime \n",
    "import csv"
   ]
  },
  {
   "cell_type": "code",
   "execution_count": 2,
   "metadata": {},
   "outputs": [],
   "source": [
    "# Creating a list of dates that we will be using to pull data from \n",
    "# In the for loop below, the query uses adjacent elements to set start and end dates.\n",
    "# In the example below, we are creating a list of dates from Jan 1, 2016 + 365 days\n",
    "\n",
    "dates = []\n",
    "date = datetime.datetime(2016, 1, 1)\n",
    "dates.append(date)\n",
    "\n",
    "for i in range(1,365):\n",
    "    date += datetime.timedelta(days=1)\n",
    "    dates.append(date)"
   ]
  },
  {
   "cell_type": "code",
   "execution_count": null,
   "metadata": {},
   "outputs": [],
   "source": [
    "# Variable below used to cap the number of extracted tweets for a given date\n",
    "maxTweets = 3\n",
    "\n",
    "# Creating list to append tweet data \n",
    "tweets_list2 = []\n",
    "\n",
    "\n",
    "#Iterating through all the days in the list created previously\n",
    "for i in range(0,len(dates)-1):\n",
    "    \n",
    "    #Creating query\n",
    "    if ((i+1) > len(dates)):\n",
    "        break\n",
    "    else:\n",
    "        q = 'Microsoft stock $MSFT since:'+str(dates[i].date())+' until:'+str(dates[i+1].date())\n",
    "\n",
    "    #Using TwitterSearchScraper to scrape data and append tweets to list\n",
    "    for i,tweet in enumerate(sntwitter.TwitterSearchScraper(q).get_items()):\n",
    "        if i>maxTweets:\n",
    "            break\n",
    "        else:\n",
    "            tweets_list2.append([tweet.date, tweet.content])\n",
    "            \n"
   ]
  },
  {
   "cell_type": "code",
   "execution_count": 112,
   "metadata": {},
   "outputs": [],
   "source": [
    "# Creating a dataframe from the tweets list above\n",
    "tweets_df2 = pd.DataFrame(tweets_list2, columns=['Datetime', 'Text'])\n",
    "\n",
    "# Display first 5 entries from dataframe\n",
    "tweets_df2.head()\n",
    "\n",
    "# Export dataframe into a CSV\n",
    "tweets_df2.to_csv('text-query-tweets-2017.csv', sep=',', index=False, encoding = 'utf-8-sig')"
   ]
  }
 ],
 "metadata": {
  "kernelspec": {
   "display_name": "Python 3",
   "language": "python",
   "name": "python3"
  },
  "language_info": {
   "codemirror_mode": {
    "name": "ipython",
    "version": 3
   },
   "file_extension": ".py",
   "mimetype": "text/x-python",
   "name": "python",
   "nbconvert_exporter": "python",
   "pygments_lexer": "ipython3",
   "version": "3.8.5"
  }
 },
 "nbformat": 4,
 "nbformat_minor": 4
}

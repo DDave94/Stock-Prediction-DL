{
  "nbformat": 4,
  "nbformat_minor": 0,
  "metadata": {
    "colab": {
      "name": "LSTM_wSentiments.ipynb",
      "provenance": [],
      "collapsed_sections": [],
      "toc_visible": true,
      "machine_shape": "hm"
    },
    "kernelspec": {
      "name": "python3",
      "display_name": "Python 3"
    },
    "language_info": {
      "name": "python"
    },
    "accelerator": "GPU"
  },
  "cells": [
    {
      "cell_type": "markdown",
      "metadata": {
        "id": "ZweBLLSBHqS9"
      },
      "source": [
        "# Microsoft Stock Prediction \n",
        "\n",
        "- Using historical stock data in combination with aggregated twitter sentiment scores to predict a \"buy or sell\" signal. \n",
        "- TO DO: \n",
        "  - Add the rest of the engineered features\n"
      ]
    },
    {
      "cell_type": "code",
      "metadata": {
        "id": "S8Ue4rVJSfeX"
      },
      "source": [
        "!pip install -q -U keras-tuner"
      ],
      "execution_count": null,
      "outputs": []
    },
    {
      "cell_type": "code",
      "metadata": {
        "id": "9FEbgd0_HbuF"
      },
      "source": [
        "# Loading required libraries\n",
        "import pandas as pd\n",
        "import numpy as np\n",
        "\n",
        "from sklearn.preprocessing import MinMaxScaler, StandardScaler\n",
        "from sklearn.metrics import classification_report\n",
        "\n",
        "import tensorflow as tf\n",
        "from tensorflow import keras \n",
        "from keras.models import Sequential\n",
        "from keras.losses import BinaryCrossentropy\n",
        "from keras.layers import Dense, LSTM, Dropout\n",
        "from keras.wrappers.scikit_learn import KerasClassifier\n",
        "from keras.optimizers import SGD, Adam, RMSprop\n",
        "import matplotlib.pyplot  as plt\n",
        "import kerastuner as kt\n",
        "\n",
        "pd.set_option(\"display.max_colwidth\" , 100, \"display.max_columns\", 15)\n",
        "np.random.seed(12)\n",
        "tf.random.set_seed(12)\n"
      ],
      "execution_count": null,
      "outputs": []
    },
    {
      "cell_type": "code",
      "metadata": {
        "id": "3O4cU62aBqFb"
      },
      "source": [
        "# Loading Raw Microsoft Stock data containing daily metrics\n",
        "msft_df = pd.read_csv(\"https://raw.githubusercontent.com/DDave94/Stock-Prediction-DL/main/datasets/raw/MSFT.csv\")\n",
        "\n",
        "# Loading Twitter Sentiment data containing daily twitter sentiment scores based on daily aggregate tweet analysis\n",
        "twitter_df = pd.read_csv(\"https://raw.githubusercontent.com/DDave94/Stock-Prediction-DL/main/datasets/twitter_sentiment_data.csv\")"
      ],
      "execution_count": null,
      "outputs": []
    },
    {
      "cell_type": "markdown",
      "metadata": {
        "id": "cTjWNWnJMcKt"
      },
      "source": [
        "### Feature Engineering\n",
        "- Generating other prediction metrics such as:\n",
        "    -  **Moving Average** : A moving average indicates the trend of the price movement and reduced the amount of \"noise\" on the price chart. We calculate different types of moving averages below. \n",
        "    - **Rate Of Change(ROC)**: A measure of the percentage change between the current price and past prices from n days\n",
        "    - **Momentum** : The rate of acceleration at which the stock price is changing based on historical training data\n",
        "\n",
        "- Adding Twitter sentiment feature column. The sentiment scores for each day of trading were calculated in a seperate notebook\n",
        "- Adding target column \"signal\". For the MSFT stock to have a buy signal on a given day, the short moving average within the last 5 days must be greater than the long moving average in the last 20 days. "
      ]
    },
    {
      "cell_type": "code",
      "metadata": {
        "id": "mcVSPC6jkyFE"
      },
      "source": [
        "# Create short simple moving average over the short window of one week\n",
        "msft_df['short_mavg'] = msft_df['Close'].rolling(window=5, min_periods=1, center=False).mean()\n",
        "\n",
        "# Create long simple moving average over the long window of four weeks\n",
        "msft_df['long_mavg'] = msft_df['Close'].rolling(window=20, min_periods=10, center=False).mean()\n",
        "\n",
        "# Calculation of moving average\n",
        "def MA(df, n):\n",
        "    MA = pd.Series(df['Close'].rolling(n, min_periods=n).mean(), name='MA_' + str(n))\n",
        "    return MA\n",
        "\n",
        "msft_df['MA30'] = MA(msft_df, 30)\n",
        "msft_df['MA90'] = MA(msft_df, 90)\n",
        "\n",
        "#calculation of exponential moving average\n",
        "def EMA(df, n):\n",
        "    EMA = pd.Series(df['Close'].ewm(span=n, min_periods=n).mean(), name='EMA_' + str(n))\n",
        "    return EMA\n",
        "\n",
        "msft_df['EMA10'] = EMA(msft_df, 10)\n",
        "msft_df['EMA30'] = EMA(msft_df, 30)\n",
        "\n",
        "#calculation of rate of change\n",
        "def ROC(df, n):  \n",
        "    M = df.diff(n - 1)  \n",
        "    N = df.shift(n - 1)  \n",
        "    ROC = pd.Series(((M / N) * 100), name = 'ROC_' + str(n))   \n",
        "    return ROC\n",
        "\n",
        "msft_df['ROC10'] = ROC(msft_df['Close'], 10)\n",
        "msft_df['ROC30'] = ROC(msft_df['Close'], 30)\n",
        "\n",
        "#Calculation of price momentum\n",
        "def MOM(df, n):   \n",
        "    MOM = pd.Series(df.diff(n), name='Momentum_' + str(n))   \n",
        "    return MOM\n",
        "\n",
        "msft_df['MOM10'] = MOM(msft_df['Close'], 10)\n",
        "msft_df['MOM30'] = MOM(msft_df['Close'], 30)\n"
      ],
      "execution_count": null,
      "outputs": []
    },
    {
      "cell_type": "code",
      "metadata": {
        "colab": {
          "base_uri": "https://localhost:8080/",
          "height": 226
        },
        "id": "7CK_MZuYpJc1",
        "outputId": "a83f07f2-ba85-4d02-fdf9-40a499e8c690"
      },
      "source": [
        "# Merging the twitter sentiment scores for each day of stock trading\n",
        "# This step is only performed when utilizing sentiment for stock signal prediction\n",
        "\n",
        "msft_df['Date'] = msft_df['Date'].astype(str)\n",
        "twitter_df['Date'] = twitter_df['Date'].astype(str)\n",
        "\n",
        "full_data = pd.merge(msft_df,twitter_df, how='inner', on='Date')\n",
        "full_data.head()"
      ],
      "execution_count": null,
      "outputs": [
        {
          "output_type": "execute_result",
          "data": {
            "text/html": [
              "<div>\n",
              "<style scoped>\n",
              "    .dataframe tbody tr th:only-of-type {\n",
              "        vertical-align: middle;\n",
              "    }\n",
              "\n",
              "    .dataframe tbody tr th {\n",
              "        vertical-align: top;\n",
              "    }\n",
              "\n",
              "    .dataframe thead th {\n",
              "        text-align: right;\n",
              "    }\n",
              "</style>\n",
              "<table border=\"1\" class=\"dataframe\">\n",
              "  <thead>\n",
              "    <tr style=\"text-align: right;\">\n",
              "      <th></th>\n",
              "      <th>Date</th>\n",
              "      <th>Open</th>\n",
              "      <th>High</th>\n",
              "      <th>Low</th>\n",
              "      <th>Close</th>\n",
              "      <th>Adj Close</th>\n",
              "      <th>Volume</th>\n",
              "      <th>...</th>\n",
              "      <th>EMA10</th>\n",
              "      <th>EMA30</th>\n",
              "      <th>ROC10</th>\n",
              "      <th>ROC30</th>\n",
              "      <th>MOM10</th>\n",
              "      <th>MOM30</th>\n",
              "      <th>TwitterSentiment</th>\n",
              "    </tr>\n",
              "  </thead>\n",
              "  <tbody>\n",
              "    <tr>\n",
              "      <th>0</th>\n",
              "      <td>2017-01-03</td>\n",
              "      <td>62.790001</td>\n",
              "      <td>62.840000</td>\n",
              "      <td>62.130001</td>\n",
              "      <td>62.580002</td>\n",
              "      <td>58.538418</td>\n",
              "      <td>20694100</td>\n",
              "      <td>...</td>\n",
              "      <td>62.759953</td>\n",
              "      <td>61.864946</td>\n",
              "      <td>-1.634701</td>\n",
              "      <td>3.695119</td>\n",
              "      <td>0.280003</td>\n",
              "      <td>1.940003</td>\n",
              "      <td>0.499253</td>\n",
              "    </tr>\n",
              "    <tr>\n",
              "      <th>1</th>\n",
              "      <td>2017-01-04</td>\n",
              "      <td>62.480000</td>\n",
              "      <td>62.750000</td>\n",
              "      <td>62.119999</td>\n",
              "      <td>62.299999</td>\n",
              "      <td>58.276497</td>\n",
              "      <td>21340000</td>\n",
              "      <td>...</td>\n",
              "      <td>62.676325</td>\n",
              "      <td>61.893014</td>\n",
              "      <td>-1.951530</td>\n",
              "      <td>2.366083</td>\n",
              "      <td>-1.320000</td>\n",
              "      <td>1.950001</td>\n",
              "      <td>-0.995186</td>\n",
              "    </tr>\n",
              "    <tr>\n",
              "      <th>2</th>\n",
              "      <td>2017-01-05</td>\n",
              "      <td>62.189999</td>\n",
              "      <td>62.660000</td>\n",
              "      <td>62.029999</td>\n",
              "      <td>62.299999</td>\n",
              "      <td>58.276497</td>\n",
              "      <td>24876000</td>\n",
              "      <td>...</td>\n",
              "      <td>62.607902</td>\n",
              "      <td>61.919271</td>\n",
              "      <td>-1.951530</td>\n",
              "      <td>1.930628</td>\n",
              "      <td>-1.240002</td>\n",
              "      <td>1.439998</td>\n",
              "      <td>0.318698</td>\n",
              "    </tr>\n",
              "    <tr>\n",
              "      <th>3</th>\n",
              "      <td>2017-01-06</td>\n",
              "      <td>62.299999</td>\n",
              "      <td>63.150002</td>\n",
              "      <td>62.040001</td>\n",
              "      <td>62.840000</td>\n",
              "      <td>58.781628</td>\n",
              "      <td>19922900</td>\n",
              "      <td>...</td>\n",
              "      <td>62.650102</td>\n",
              "      <td>61.978673</td>\n",
              "      <td>-1.117229</td>\n",
              "      <td>4.039732</td>\n",
              "      <td>-0.700001</td>\n",
              "      <td>1.720001</td>\n",
              "      <td>-0.348997</td>\n",
              "    </tr>\n",
              "    <tr>\n",
              "      <th>4</th>\n",
              "      <td>2017-01-09</td>\n",
              "      <td>62.759998</td>\n",
              "      <td>63.080002</td>\n",
              "      <td>62.540001</td>\n",
              "      <td>62.639999</td>\n",
              "      <td>58.594547</td>\n",
              "      <td>20382700</td>\n",
              "      <td>...</td>\n",
              "      <td>62.648265</td>\n",
              "      <td>62.021339</td>\n",
              "      <td>-0.948771</td>\n",
              "      <td>3.485875</td>\n",
              "      <td>-0.910000</td>\n",
              "      <td>2.239997</td>\n",
              "      <td>-0.074360</td>\n",
              "    </tr>\n",
              "  </tbody>\n",
              "</table>\n",
              "<p>5 rows × 18 columns</p>\n",
              "</div>"
            ],
            "text/plain": [
              "         Date       Open       High        Low      Close  Adj Close  \\\n",
              "0  2017-01-03  62.790001  62.840000  62.130001  62.580002  58.538418   \n",
              "1  2017-01-04  62.480000  62.750000  62.119999  62.299999  58.276497   \n",
              "2  2017-01-05  62.189999  62.660000  62.029999  62.299999  58.276497   \n",
              "3  2017-01-06  62.299999  63.150002  62.040001  62.840000  58.781628   \n",
              "4  2017-01-09  62.759998  63.080002  62.540001  62.639999  58.594547   \n",
              "\n",
              "     Volume  ...      EMA10      EMA30     ROC10     ROC30     MOM10  \\\n",
              "0  20694100  ...  62.759953  61.864946 -1.634701  3.695119  0.280003   \n",
              "1  21340000  ...  62.676325  61.893014 -1.951530  2.366083 -1.320000   \n",
              "2  24876000  ...  62.607902  61.919271 -1.951530  1.930628 -1.240002   \n",
              "3  19922900  ...  62.650102  61.978673 -1.117229  4.039732 -0.700001   \n",
              "4  20382700  ...  62.648265  62.021339 -0.948771  3.485875 -0.910000   \n",
              "\n",
              "      MOM30  TwitterSentiment  \n",
              "0  1.940003          0.499253  \n",
              "1  1.950001         -0.995186  \n",
              "2  1.439998          0.318698  \n",
              "3  1.720001         -0.348997  \n",
              "4  2.239997         -0.074360  \n",
              "\n",
              "[5 rows x 18 columns]"
            ]
          },
          "metadata": {
            "tags": []
          },
          "execution_count": 5
        }
      ]
    },
    {
      "cell_type": "code",
      "metadata": {
        "colab": {
          "base_uri": "https://localhost:8080/",
          "height": 226
        },
        "id": "ddu9ABFfLv1X",
        "outputId": "21224cee-6936-4eec-f32a-51d8105c7a4f"
      },
      "source": [
        "# Create target class which is a buying or selling signal given the stock price movement (SMA vs LMA)\n",
        "full_data['signal'] = np.where(full_data['short_mavg'] > full_data['long_mavg'], 1.0, 0.0)\n",
        "full_data.head()"
      ],
      "execution_count": null,
      "outputs": [
        {
          "output_type": "execute_result",
          "data": {
            "text/html": [
              "<div>\n",
              "<style scoped>\n",
              "    .dataframe tbody tr th:only-of-type {\n",
              "        vertical-align: middle;\n",
              "    }\n",
              "\n",
              "    .dataframe tbody tr th {\n",
              "        vertical-align: top;\n",
              "    }\n",
              "\n",
              "    .dataframe thead th {\n",
              "        text-align: right;\n",
              "    }\n",
              "</style>\n",
              "<table border=\"1\" class=\"dataframe\">\n",
              "  <thead>\n",
              "    <tr style=\"text-align: right;\">\n",
              "      <th></th>\n",
              "      <th>Date</th>\n",
              "      <th>Open</th>\n",
              "      <th>High</th>\n",
              "      <th>Low</th>\n",
              "      <th>Close</th>\n",
              "      <th>Adj Close</th>\n",
              "      <th>Volume</th>\n",
              "      <th>...</th>\n",
              "      <th>EMA30</th>\n",
              "      <th>ROC10</th>\n",
              "      <th>ROC30</th>\n",
              "      <th>MOM10</th>\n",
              "      <th>MOM30</th>\n",
              "      <th>TwitterSentiment</th>\n",
              "      <th>signal</th>\n",
              "    </tr>\n",
              "  </thead>\n",
              "  <tbody>\n",
              "    <tr>\n",
              "      <th>0</th>\n",
              "      <td>2017-01-03</td>\n",
              "      <td>62.790001</td>\n",
              "      <td>62.840000</td>\n",
              "      <td>62.130001</td>\n",
              "      <td>62.580002</td>\n",
              "      <td>58.538418</td>\n",
              "      <td>20694100</td>\n",
              "      <td>...</td>\n",
              "      <td>61.864946</td>\n",
              "      <td>-1.634701</td>\n",
              "      <td>3.695119</td>\n",
              "      <td>0.280003</td>\n",
              "      <td>1.940003</td>\n",
              "      <td>0.499253</td>\n",
              "      <td>1.0</td>\n",
              "    </tr>\n",
              "    <tr>\n",
              "      <th>1</th>\n",
              "      <td>2017-01-04</td>\n",
              "      <td>62.480000</td>\n",
              "      <td>62.750000</td>\n",
              "      <td>62.119999</td>\n",
              "      <td>62.299999</td>\n",
              "      <td>58.276497</td>\n",
              "      <td>21340000</td>\n",
              "      <td>...</td>\n",
              "      <td>61.893014</td>\n",
              "      <td>-1.951530</td>\n",
              "      <td>2.366083</td>\n",
              "      <td>-1.320000</td>\n",
              "      <td>1.950001</td>\n",
              "      <td>-0.995186</td>\n",
              "      <td>1.0</td>\n",
              "    </tr>\n",
              "    <tr>\n",
              "      <th>2</th>\n",
              "      <td>2017-01-05</td>\n",
              "      <td>62.189999</td>\n",
              "      <td>62.660000</td>\n",
              "      <td>62.029999</td>\n",
              "      <td>62.299999</td>\n",
              "      <td>58.276497</td>\n",
              "      <td>24876000</td>\n",
              "      <td>...</td>\n",
              "      <td>61.919271</td>\n",
              "      <td>-1.951530</td>\n",
              "      <td>1.930628</td>\n",
              "      <td>-1.240002</td>\n",
              "      <td>1.439998</td>\n",
              "      <td>0.318698</td>\n",
              "      <td>0.0</td>\n",
              "    </tr>\n",
              "    <tr>\n",
              "      <th>3</th>\n",
              "      <td>2017-01-06</td>\n",
              "      <td>62.299999</td>\n",
              "      <td>63.150002</td>\n",
              "      <td>62.040001</td>\n",
              "      <td>62.840000</td>\n",
              "      <td>58.781628</td>\n",
              "      <td>19922900</td>\n",
              "      <td>...</td>\n",
              "      <td>61.978673</td>\n",
              "      <td>-1.117229</td>\n",
              "      <td>4.039732</td>\n",
              "      <td>-0.700001</td>\n",
              "      <td>1.720001</td>\n",
              "      <td>-0.348997</td>\n",
              "      <td>0.0</td>\n",
              "    </tr>\n",
              "    <tr>\n",
              "      <th>4</th>\n",
              "      <td>2017-01-09</td>\n",
              "      <td>62.759998</td>\n",
              "      <td>63.080002</td>\n",
              "      <td>62.540001</td>\n",
              "      <td>62.639999</td>\n",
              "      <td>58.594547</td>\n",
              "      <td>20382700</td>\n",
              "      <td>...</td>\n",
              "      <td>62.021339</td>\n",
              "      <td>-0.948771</td>\n",
              "      <td>3.485875</td>\n",
              "      <td>-0.910000</td>\n",
              "      <td>2.239997</td>\n",
              "      <td>-0.074360</td>\n",
              "      <td>0.0</td>\n",
              "    </tr>\n",
              "  </tbody>\n",
              "</table>\n",
              "<p>5 rows × 19 columns</p>\n",
              "</div>"
            ],
            "text/plain": [
              "         Date       Open       High        Low      Close  Adj Close  \\\n",
              "0  2017-01-03  62.790001  62.840000  62.130001  62.580002  58.538418   \n",
              "1  2017-01-04  62.480000  62.750000  62.119999  62.299999  58.276497   \n",
              "2  2017-01-05  62.189999  62.660000  62.029999  62.299999  58.276497   \n",
              "3  2017-01-06  62.299999  63.150002  62.040001  62.840000  58.781628   \n",
              "4  2017-01-09  62.759998  63.080002  62.540001  62.639999  58.594547   \n",
              "\n",
              "     Volume  ...      EMA30     ROC10     ROC30     MOM10     MOM30  \\\n",
              "0  20694100  ...  61.864946 -1.634701  3.695119  0.280003  1.940003   \n",
              "1  21340000  ...  61.893014 -1.951530  2.366083 -1.320000  1.950001   \n",
              "2  24876000  ...  61.919271 -1.951530  1.930628 -1.240002  1.439998   \n",
              "3  19922900  ...  61.978673 -1.117229  4.039732 -0.700001  1.720001   \n",
              "4  20382700  ...  62.021339 -0.948771  3.485875 -0.910000  2.239997   \n",
              "\n",
              "   TwitterSentiment  signal  \n",
              "0          0.499253     1.0  \n",
              "1         -0.995186     1.0  \n",
              "2          0.318698     0.0  \n",
              "3         -0.348997     0.0  \n",
              "4         -0.074360     0.0  \n",
              "\n",
              "[5 rows x 19 columns]"
            ]
          },
          "metadata": {
            "tags": []
          },
          "execution_count": 6
        }
      ]
    },
    {
      "cell_type": "markdown",
      "metadata": {
        "id": "e1LK5lE_n5YF"
      },
      "source": [
        "### Data Preparation \n",
        "- Normalizing data using MinMaxScaler()\n",
        "- Train,Test,Val split "
      ]
    },
    {
      "cell_type": "code",
      "metadata": {
        "colab": {
          "base_uri": "https://localhost:8080/"
        },
        "id": "JEHyQMopR4Te",
        "outputId": "b44b58e0-c417-4975-96aa-c07ed3b15a5c"
      },
      "source": [
        "# Creating Min Max scaler to scale all features (except date) from 0-1\n",
        "#scaler = MinMaxScaler(feature_range=(0,1))\n",
        "scaler = StandardScaler()\n",
        "\n",
        "temp = full_data.drop(['Date', 'signal'], axis=1)\n",
        "cols = temp.columns\n",
        "\n",
        "#Creating scaled data\n",
        "temp = scaler.fit_transform(temp)\n",
        "\n",
        "#Generating input_df which will be used for model training and predictions\n",
        "input_df = pd.concat([full_data['Date'],pd.DataFrame(temp, columns = cols),full_data['signal']], axis=1, ignore_index=False)\n",
        "print(input_df.shape)\n",
        "print(input_df.head(5))\n",
        "#input_df.to_csv('/content/input_df.csv')"
      ],
      "execution_count": null,
      "outputs": [
        {
          "output_type": "stream",
          "text": [
            "(946, 19)\n",
            "         Date      Open      High       Low     Close  Adj Close    Volume  \\\n",
            "0  2017-01-03 -1.321765 -1.327899 -1.326408 -1.325880  -1.325567 -0.631103   \n",
            "1  2017-01-04 -1.328279 -1.329763 -1.326622 -1.331759  -1.330957 -0.583943   \n",
            "2  2017-01-05 -1.334371 -1.331628 -1.328540 -1.331759  -1.330957 -0.325763   \n",
            "3  2017-01-06 -1.332060 -1.321478 -1.328327 -1.320421  -1.320562 -0.687412   \n",
            "4  2017-01-09 -1.322396 -1.322928 -1.317670 -1.324621  -1.324412 -0.653840   \n",
            "\n",
            "   ...     EMA30     ROC10     ROC30     MOM10     MOM30  TwitterSentiment  \\\n",
            "0  ... -1.324668 -0.714598 -0.027702 -0.206077 -0.289512          1.535634   \n",
            "1  ... -1.324064 -0.793975 -0.245784 -0.454031 -0.288442         -1.155836   \n",
            "2  ... -1.323500 -0.793975 -0.317238 -0.441633 -0.343058          1.210456   \n",
            "3  ... -1.322222 -0.584954  0.028846 -0.357949 -0.313072          0.007944   \n",
            "4  ... -1.321304 -0.542750 -0.062037 -0.390493 -0.257386          0.502563   \n",
            "\n",
            "   signal  \n",
            "0     1.0  \n",
            "1     1.0  \n",
            "2     0.0  \n",
            "3     0.0  \n",
            "4     0.0  \n",
            "\n",
            "[5 rows x 19 columns]\n"
          ],
          "name": "stdout"
        }
      ]
    },
    {
      "cell_type": "code",
      "metadata": {
        "colab": {
          "base_uri": "https://localhost:8080/"
        },
        "id": "LXPhUFTdQdOu",
        "outputId": "ce515985-a0eb-47fa-b0d4-3e2a4a51870c"
      },
      "source": [
        "# Splitting entire data to create Training and Testing Data\n",
        "# We will need to split the training and testing data into equivalent \n",
        "# time steps to train LSTM Model\n",
        "\n",
        "# Creating Training and Testing indices\n",
        "train_data_size = int((0.7)*(input_df.shape[0]))\n",
        "test_data_size = int(input_df.shape[0] - train_data_size)\n",
        "\n",
        "# Allocating data instances to training and testing sets\n",
        "train_data = input_df.iloc[0:train_data_size,1:]\n",
        "test_data = input_df.iloc[train_data_size:input_df.shape[0],1:]\n",
        "\n",
        "full_training_data = train_data # Used during model prediction\n",
        "full_test_data = test_data  # USed during model prediction\n",
        "print(train_data.head(10))\n",
        "\n",
        "# Creating numpy arrays from dataframes for future processing\n",
        "train_data = np.array(train_data)\n",
        "test_data = np.array(test_data)\n",
        "\n",
        "print(train_data.shape)\n",
        "print(test_data.shape)"
      ],
      "execution_count": null,
      "outputs": [
        {
          "output_type": "stream",
          "text": [
            "       Open      High       Low     Close  Adj Close    Volume  short_mavg  \\\n",
            "0 -1.321765 -1.327899 -1.326408 -1.325880  -1.325567 -0.631103   -1.319873   \n",
            "1 -1.328279 -1.329763 -1.326622 -1.331759  -1.330957 -0.583943   -1.324004   \n",
            "2 -1.334371 -1.331628 -1.328540 -1.331759  -1.330957 -0.325763   -1.326913   \n",
            "3 -1.332060 -1.321478 -1.328327 -1.320421  -1.320562 -0.687412   -1.327166   \n",
            "4 -1.322396 -1.322928 -1.317670 -1.324621  -1.324412 -0.653840   -1.325058   \n",
            "5 -1.323026 -1.323135 -1.323211 -1.325041  -1.324797 -0.784514   -1.324889   \n",
            "6 -1.325547 -1.319821 -1.320014 -1.313073  -1.313825 -0.570997   -1.321138   \n",
            "7 -1.316093 -1.316300 -1.330245 -1.325250  -1.324989 -0.611090   -1.319831   \n",
            "8 -1.325337 -1.327278 -1.321720 -1.323361  -1.323257 -0.723963   -1.320421   \n",
            "9 -1.324076 -1.330799 -1.328540 -1.326930  -1.326529 -0.633301   -1.320885   \n",
            "\n",
            "   ...     EMA30     ROC10     ROC30     MOM10     MOM30  TwitterSentiment  \\\n",
            "0  ... -1.324668 -0.714598 -0.027702 -0.206077 -0.289512          1.535634   \n",
            "1  ... -1.324064 -0.793975 -0.245784 -0.454031 -0.288442         -1.155836   \n",
            "2  ... -1.323500 -0.793975 -0.317238 -0.441633 -0.343058          1.210456   \n",
            "3  ... -1.322222 -0.584954  0.028846 -0.357949 -0.313072          0.007944   \n",
            "4  ... -1.321304 -0.542750 -0.062037 -0.390493 -0.257386          0.502563   \n",
            "5  ... -1.320474 -0.566353 -0.089865 -0.345552 -0.273449         -1.124424   \n",
            "6  ... -1.318906 -0.225504 -0.069966 -0.263417 -0.220975         -1.131539   \n",
            "7  ... -1.318244 -0.420559  0.005880 -0.308359 -0.334490         -1.124864   \n",
            "8  ... -1.317500 -0.079270  0.336095 -0.280464 -0.235967         -0.227524   \n",
            "9  ... -1.317039 -0.325068  0.274348 -0.189031 -0.140658         -1.158430   \n",
            "\n",
            "   signal  \n",
            "0     1.0  \n",
            "1     1.0  \n",
            "2     0.0  \n",
            "3     0.0  \n",
            "4     0.0  \n",
            "5     0.0  \n",
            "6     0.0  \n",
            "7     0.0  \n",
            "8     0.0  \n",
            "9     0.0  \n",
            "\n",
            "[10 rows x 18 columns]\n",
            "(662, 18)\n",
            "(284, 18)\n"
          ],
          "name": "stdout"
        }
      ]
    },
    {
      "cell_type": "markdown",
      "metadata": {
        "id": "MMlEUHNikxDO"
      },
      "source": [
        "### Creating Training and Testing Sets"
      ]
    },
    {
      "cell_type": "code",
      "metadata": {
        "id": "XCRZnE9fUWC6"
      },
      "source": [
        "# Function to create time series data for training and testing\n",
        "# As an example, this function looks back at five days and adds the 6th day label \n",
        "# for X and y respectively.\n",
        "def create_rolling_data(data, time_step, label_col): \n",
        "    X = []\n",
        "    y = []\n",
        "\n",
        "    for i in range(time_step, train_data.shape[0]):\n",
        "        X.append(train_data[i-time_step:i])\n",
        "        y.append(train_data[i,label_col])\n",
        "    \n",
        "    return np.array(X), np.array(y)\n",
        "\n",
        "time_step = 5\n",
        "label_col = 17\n",
        "\n",
        "X_train, y_train = create_rolling_data(train_data, time_step, label_col)\n",
        "\n",
        "# Gathering the last five days of training data as this will be used to test \n",
        "# the first label in y_test\n",
        "last_5_days = full_training_data.tail()\n",
        "df = last_5_days.append([full_test_data], ignore_index=True)\n",
        "\n",
        "X_test, y_test = create_rolling_data(df, time_step, label_col)"
      ],
      "execution_count": null,
      "outputs": []
    },
    {
      "cell_type": "markdown",
      "metadata": {
        "id": "_be_TpoG95wA"
      },
      "source": [
        "### Model Function Definitions\n",
        "- Creating LSTM model and evaluaperforming hyperparameter tuning \n",
        "- Evaluating model by comparing predicted signals against actual signals in testing dataset"
      ]
    },
    {
      "cell_type": "code",
      "metadata": {
        "id": "m10ZjBGw959c"
      },
      "source": [
        "# Model definition\n",
        "def build_model():\n",
        "\n",
        "    model = Sequential()\n",
        "\n",
        "    model.add(LSTM(units = 60, activation = 'relu', return_sequences = True, input_shape = (X_train.shape[1], X_train.shape[2])))\n",
        "    model.add(Dropout(0.2))\n",
        "\n",
        "    model.add(LSTM(units = 60, activation = 'relu', return_sequences = True))\n",
        "    model.add(Dropout(0.2))\n",
        "\n",
        "    model.add(LSTM(units = 120, activation = 'relu'))\n",
        "    model.add(Dropout(0.2))\n",
        "\n",
        "    model.add(Dense(units = 1, activation = 'sigmoid'))\n",
        "   \n",
        "    print(model.summary())\n",
        "\n",
        "    return model\n",
        "\n",
        "# Model Compile\n",
        "def compile_model(model):\n",
        "    \n",
        "    model.compile(optimizer='adam', loss = 'binary_crossentropy', metrics = ['accuracy'])\n",
        "\n",
        "    return model\n",
        "\n",
        "# Model Training\n",
        "def train_model(model, X_train, Y_train):\n",
        "    \n",
        "    batch_size = 32\n",
        "    epochs = 20\n",
        "       \n",
        "    history = model.fit(X_train, y_train, epochs=epochs, batch_size=batch_size, verbose = 1)\n",
        "\n",
        "    return model, history\n",
        "\n",
        "# Model Evaluation and Results Evaluation\n",
        "def eval_model(model, X_test, y_test):\n",
        "\n",
        "    y_pred = model.predict(X_test)\n",
        "    y_pred = y_pred.flatten()\n",
        "    print(classification_report(y_test.round(), y_pred.round()))\n",
        "\n",
        "\n",
        "    # Visualising the results\n",
        "    \n",
        "    plt.figure(figsize=(14,5))\n",
        "    plt.plot(y_test, color = 'red', label = 'Actual Buy/Sell Signal ')\n",
        "    plt.plot(y_pred, color = 'blue', label = 'Predicted Buy/Sell Signal')\n",
        "    plt.title('MSFT LSTM Stock Buy/Sell Prediction')\n",
        "    plt.xlabel('Time')\n",
        "    plt.ylabel('MSFT Stock Signal')\n",
        "    plt.legend()\n",
        "    plt.show()\n",
        "   \n",
        "    return None\n"
      ],
      "execution_count": null,
      "outputs": []
    },
    {
      "cell_type": "code",
      "metadata": {
        "colab": {
          "base_uri": "https://localhost:8080/"
        },
        "id": "xk9llyIIWPvN",
        "outputId": "33027f62-95c4-4c02-ac15-43b28f81483f"
      },
      "source": [
        "#Executing functions\n",
        "model = build_model()\n",
        "model = compile_model(model)\n",
        "model, history = train_model(model, X_train, y_train)"
      ],
      "execution_count": null,
      "outputs": [
        {
          "output_type": "stream",
          "text": [
            "WARNING:tensorflow:Layer lstm will not use cuDNN kernel since it doesn't meet the cuDNN kernel criteria. It will use generic GPU kernel as fallback when running on GPU\n",
            "WARNING:tensorflow:Layer lstm_1 will not use cuDNN kernel since it doesn't meet the cuDNN kernel criteria. It will use generic GPU kernel as fallback when running on GPU\n",
            "WARNING:tensorflow:Layer lstm_2 will not use cuDNN kernel since it doesn't meet the cuDNN kernel criteria. It will use generic GPU kernel as fallback when running on GPU\n",
            "Model: \"sequential\"\n",
            "_________________________________________________________________\n",
            "Layer (type)                 Output Shape              Param #   \n",
            "=================================================================\n",
            "lstm (LSTM)                  (None, 5, 60)             18960     \n",
            "_________________________________________________________________\n",
            "dropout (Dropout)            (None, 5, 60)             0         \n",
            "_________________________________________________________________\n",
            "lstm_1 (LSTM)                (None, 5, 60)             29040     \n",
            "_________________________________________________________________\n",
            "dropout_1 (Dropout)          (None, 5, 60)             0         \n",
            "_________________________________________________________________\n",
            "lstm_2 (LSTM)                (None, 120)               86880     \n",
            "_________________________________________________________________\n",
            "dropout_2 (Dropout)          (None, 120)               0         \n",
            "_________________________________________________________________\n",
            "dense (Dense)                (None, 1)                 121       \n",
            "=================================================================\n",
            "Total params: 135,001\n",
            "Trainable params: 135,001\n",
            "Non-trainable params: 0\n",
            "_________________________________________________________________\n",
            "None\n",
            "Epoch 1/20\n",
            "21/21 [==============================] - 4s 24ms/step - loss: 0.6767 - accuracy: 0.6140\n",
            "Epoch 2/20\n",
            "21/21 [==============================] - 1s 24ms/step - loss: 0.5159 - accuracy: 0.7463\n",
            "Epoch 3/20\n",
            "21/21 [==============================] - 0s 21ms/step - loss: 0.3699 - accuracy: 0.7948\n",
            "Epoch 4/20\n",
            "21/21 [==============================] - 1s 24ms/step - loss: 0.2965 - accuracy: 0.8596\n",
            "Epoch 5/20\n",
            "21/21 [==============================] - 1s 25ms/step - loss: 0.3100 - accuracy: 0.8526\n",
            "Epoch 6/20\n",
            "21/21 [==============================] - 0s 22ms/step - loss: 0.2774 - accuracy: 0.8766\n",
            "Epoch 7/20\n",
            "21/21 [==============================] - 0s 21ms/step - loss: 0.2448 - accuracy: 0.8745\n",
            "Epoch 8/20\n",
            "21/21 [==============================] - 0s 22ms/step - loss: 0.2235 - accuracy: 0.9138\n",
            "Epoch 9/20\n",
            "21/21 [==============================] - 0s 23ms/step - loss: 0.2471 - accuracy: 0.8991\n",
            "Epoch 10/20\n",
            "21/21 [==============================] - 0s 23ms/step - loss: 0.2062 - accuracy: 0.9116\n",
            "Epoch 11/20\n",
            "21/21 [==============================] - 0s 23ms/step - loss: 0.2128 - accuracy: 0.8961\n",
            "Epoch 12/20\n",
            "21/21 [==============================] - 1s 24ms/step - loss: 0.2324 - accuracy: 0.8899\n",
            "Epoch 13/20\n",
            "21/21 [==============================] - 0s 22ms/step - loss: 0.2131 - accuracy: 0.9015\n",
            "Epoch 14/20\n",
            "21/21 [==============================] - 1s 25ms/step - loss: 0.2094 - accuracy: 0.9042\n",
            "Epoch 15/20\n",
            "21/21 [==============================] - 0s 22ms/step - loss: 0.1703 - accuracy: 0.9329\n",
            "Epoch 16/20\n",
            "21/21 [==============================] - 0s 22ms/step - loss: 0.1636 - accuracy: 0.9262\n",
            "Epoch 17/20\n",
            "21/21 [==============================] - 0s 22ms/step - loss: 0.1534 - accuracy: 0.9335\n",
            "Epoch 18/20\n",
            "21/21 [==============================] - 0s 23ms/step - loss: 0.1740 - accuracy: 0.9210\n",
            "Epoch 19/20\n",
            "21/21 [==============================] - 0s 23ms/step - loss: 0.1788 - accuracy: 0.9368\n",
            "Epoch 20/20\n",
            "21/21 [==============================] - 0s 23ms/step - loss: 0.2037 - accuracy: 0.9160\n"
          ],
          "name": "stdout"
        }
      ]
    },
    {
      "cell_type": "code",
      "metadata": {
        "colab": {
          "base_uri": "https://localhost:8080/",
          "height": 510
        },
        "id": "e_nX3G58KHQG",
        "outputId": "95ac7172-f665-4a0f-93ee-405387a2228b"
      },
      "source": [
        "# Testing Model\n",
        "eval_model(model, X_test, y_test)"
      ],
      "execution_count": null,
      "outputs": [
        {
          "output_type": "stream",
          "text": [
            "              precision    recall  f1-score   support\n",
            "\n",
            "         0.0       0.91      0.85      0.88       180\n",
            "         1.0       0.94      0.97      0.96       477\n",
            "\n",
            "    accuracy                           0.94       657\n",
            "   macro avg       0.93      0.91      0.92       657\n",
            "weighted avg       0.94      0.94      0.94       657\n",
            "\n"
          ],
          "name": "stdout"
        },
        {
          "output_type": "display_data",
          "data": {
            "image/png": "[encoded data removed]",
            "text/plain": [
              "<Figure size 1008x360 with 1 Axes>"
            ]
          },
          "metadata": {
            "tags": [],
            "needs_background": "light"
          }
        }
      ]
    },
    {
      "cell_type": "markdown",
      "metadata": {
        "id": "pJEAWalVTA3d"
      },
      "source": [
        "### Hyperparameter Tuning\n",
        "- Defining function for hyperparameter tuning"
      ]
    },
    {
      "cell_type": "code",
      "metadata": {
        "id": "bpd2FjlOS_qr"
      },
      "source": [
        "def model_builder(hp):\n",
        "\n",
        "    #Defining Model \n",
        "    hyper_model = Sequential()\n",
        "\n",
        "    hyper_model.add(LSTM(units = hp.Int('input_layer', 10, 90, step=10), activation = 'relu', \n",
        "                         return_sequences = True, input_shape = (X_train.shape[1], X_train.shape[2])))\n",
        "    hyper_model.add(Dropout(hp.Choice('Drop1', values = [0.1,0.2,0.3])))\n",
        "\n",
        "    hyper_model.add(LSTM(units = hp.Int('first_hidden', 10, 90, step=10), \n",
        "                         activation = 'relu', return_sequences = True))\n",
        "    hyper_model.add(Dropout(hp.Choice('Drop2', values = [0.1,0.2,0.3])))\n",
        "    \n",
        "\n",
        "    hyper_model.add(LSTM(units = hp.Int('second_hidden', 10, 90, step=10), \n",
        "                         activation = 'relu'))\n",
        "    hyper_model.add(Dropout(hp.Choice('Drop3', values = [0.1,0.2,0.3])))\n",
        "\n",
        "    hyper_model.add(Dense(units = 1, activation = 'sigmoid'))\n",
        "        \n",
        "    hyper_model.compile(optimizer = Adam(learning_rate=hp.Choice('learning_rate', values = [1e-2, 1e-3, 1e-4])),\n",
        "                        loss = BinaryCrossentropy(), metrics=['accuracy'])\n",
        "        \n",
        "    return model\n"
      ],
      "execution_count": null,
      "outputs": []
    },
    {
      "cell_type": "code",
      "metadata": {
        "colab": {
          "base_uri": "https://localhost:8080/"
        },
        "id": "CDPC9tsy7KxW",
        "outputId": "f9a589c9-34b7-4b2a-8e4a-83640be42620"
      },
      "source": [
        "# Defining Tuner and performing hypertuning\n",
        "tuner = kt.tuners.randomsearch.RandomSearch(model_builder, objective='accuracy', max_trials=10, seed=42, overwrite = True)\n",
        "\n",
        "tuner.search(X_train, y_train, epochs=20)\n",
        "\n",
        "# Get the optimal hyperparameters\n",
        "best_hps=tuner.get_best_hyperparameters(num_trials=1)[0]\n",
        "\n",
        "print(f\"\"\"\n",
        "The hyperparameter search is complete. \n",
        "The optimal number of units in the input hidden LSTM layer is {best_hps.get('input_layer')}. \n",
        "The optimal amount of dropout in the input LSTM layer is {best_hps.get('Drop1')}. \n",
        "The optimal number of units in the first hidden LSTM layer is {best_hps.get('first_hidden')}. \n",
        "The optimal amount of dropout in the input LSTM layer is {best_hps.get('Drop2')}. \n",
        "The optimal number of units in the second hidden LSTM layer is {best_hps.get('second_hidden')}. \n",
        "The optimal amount of dropout in the input LSTM layer is {best_hps.get('Drop3')}. \n",
        "The optimal learning rate for the optimizer is {best_hps.get('learning_rate')}.\n",
        "\"\"\")"
      ],
      "execution_count": null,
      "outputs": [
        {
          "output_type": "stream",
          "text": [
            "Trial 10 Complete [00h 00m 10s]\n",
            "accuracy: 1.0\n",
            "\n",
            "Best accuracy So Far: 1.0\n",
            "Total elapsed time: 00h 01m 42s\n",
            "INFO:tensorflow:Oracle triggered exit\n",
            "\n",
            "The hyperparameter search is complete. \n",
            "The optimal number of units in the input hidden LSTM layer is 70. \n",
            "The optimal amount of dropout in the input LSTM layer is 0.1. \n",
            "The optimal number of units in the first hidden LSTM layer is 70. \n",
            "The optimal amount of dropout in the input LSTM layer is 0.1. \n",
            "The optimal number of units in the second hidden LSTM layer is 40. \n",
            "The optimal amount of dropout in the input LSTM layer is 0.1. \n",
            "The optimal learning rate for the optimizer is 0.01.\n",
            "\n"
          ],
          "name": "stdout"
        }
      ]
    },
    {
      "cell_type": "markdown",
      "metadata": {
        "id": "QLSXWiWJ0C6D"
      },
      "source": [
        "#### Evaluating Model created using optimal values for hyperparameters and number of epochs\n",
        "- In Step One, we create the model using the best hyperparameter values identified during tuning. Then we find the epoch in which we obtain the best accuracy. \n",
        "\n",
        "- In Step Two, we recreate the model using the optimal hyperparameter values and the ideal number of training epochs. Then we evaluate the model again to compare results against the first non-tuned model with random parameters"
      ]
    },
    {
      "cell_type": "code",
      "metadata": {
        "colab": {
          "base_uri": "https://localhost:8080/"
        },
        "id": "-_kp6i_T0ALt",
        "outputId": "d7f123c1-d836-45d5-a5f9-44b984fcd620"
      },
      "source": [
        "#Step One\n",
        "model = tuner.hypermodel.build(best_hps)\n",
        "history = model.fit(X_train, y_train, epochs=20)\n",
        "\n",
        "acc_per_epoch = history.history['accuracy']\n",
        "best_epoch = acc_per_epoch.index(max(acc_per_epoch)) + 1\n",
        "print('Best epoch: %d' % (best_epoch,))"
      ],
      "execution_count": null,
      "outputs": [
        {
          "output_type": "stream",
          "text": [
            "WARNING:tensorflow:Layer lstm will not use cuDNN kernel since it doesn't meet the cuDNN kernel criteria. It will use generic GPU kernel as fallback when running on GPU\n",
            "WARNING:tensorflow:Layer lstm_1 will not use cuDNN kernel since it doesn't meet the cuDNN kernel criteria. It will use generic GPU kernel as fallback when running on GPU\n",
            "WARNING:tensorflow:Layer lstm_2 will not use cuDNN kernel since it doesn't meet the cuDNN kernel criteria. It will use generic GPU kernel as fallback when running on GPU\n",
            "Epoch 1/20\n",
            "21/21 [==============================] - 1s 24ms/step - loss: 0.0014 - accuracy: 1.0000\n",
            "Epoch 2/20\n",
            "21/21 [==============================] - 1s 24ms/step - loss: 0.0171 - accuracy: 0.9954\n",
            "Epoch 3/20\n",
            "21/21 [==============================] - 1s 24ms/step - loss: 0.0130 - accuracy: 0.9924\n",
            "Epoch 4/20\n",
            "21/21 [==============================] - 0s 23ms/step - loss: 0.0044 - accuracy: 1.0000\n",
            "Epoch 5/20\n",
            "21/21 [==============================] - 0s 23ms/step - loss: 7.4534e-04 - accuracy: 1.0000\n",
            "Epoch 6/20\n",
            "21/21 [==============================] - 0s 23ms/step - loss: 0.0033 - accuracy: 0.9985\n",
            "Epoch 7/20\n",
            "21/21 [==============================] - 1s 25ms/step - loss: 0.0099 - accuracy: 0.9970\n",
            "Epoch 8/20\n",
            "21/21 [==============================] - 0s 24ms/step - loss: 0.0809 - accuracy: 0.9787\n",
            "Epoch 9/20\n",
            "21/21 [==============================] - 0s 22ms/step - loss: 0.0264 - accuracy: 0.9878\n",
            "Epoch 10/20\n",
            "21/21 [==============================] - 0s 23ms/step - loss: 0.0492 - accuracy: 0.9802\n",
            "Epoch 11/20\n",
            "21/21 [==============================] - 1s 25ms/step - loss: 0.0253 - accuracy: 0.9893\n",
            "Epoch 12/20\n",
            "21/21 [==============================] - 1s 24ms/step - loss: 0.0178 - accuracy: 0.9939\n",
            "Epoch 13/20\n",
            "21/21 [==============================] - 0s 24ms/step - loss: 0.0076 - accuracy: 0.9985\n",
            "Epoch 14/20\n",
            "21/21 [==============================] - 0s 22ms/step - loss: 0.0047 - accuracy: 0.9985\n",
            "Epoch 15/20\n",
            "21/21 [==============================] - 0s 23ms/step - loss: 0.0043 - accuracy: 0.9970\n",
            "Epoch 16/20\n",
            "21/21 [==============================] - 0s 22ms/step - loss: 0.0041 - accuracy: 0.9985\n",
            "Epoch 17/20\n",
            "21/21 [==============================] - 0s 23ms/step - loss: 0.0281 - accuracy: 0.9939\n",
            "Epoch 18/20\n",
            "21/21 [==============================] - 0s 23ms/step - loss: 0.0261 - accuracy: 0.9924\n",
            "Epoch 19/20\n",
            "21/21 [==============================] - 0s 21ms/step - loss: 0.0112 - accuracy: 0.9970\n",
            "Epoch 20/20\n",
            "21/21 [==============================] - 0s 24ms/step - loss: 0.0095 - accuracy: 0.9985\n",
            "Best epoch: 1\n"
          ],
          "name": "stdout"
        }
      ]
    },
    {
      "cell_type": "code",
      "metadata": {
        "colab": {
          "base_uri": "https://localhost:8080/"
        },
        "id": "4PMSOY9SHGw6",
        "outputId": "0dc5f071-c2b7-4266-e405-db911c316892"
      },
      "source": [
        "#Step Two\n",
        "hypermodel = tuner.hypermodel.build(best_hps)\n",
        "\n",
        "# Retrain the model\n",
        "hypermodel.fit(X_train, y_train, epochs=best_epoch)"
      ],
      "execution_count": null,
      "outputs": [
        {
          "output_type": "stream",
          "text": [
            "WARNING:tensorflow:Layer lstm will not use cuDNN kernel since it doesn't meet the cuDNN kernel criteria. It will use generic GPU kernel as fallback when running on GPU\n",
            "WARNING:tensorflow:Layer lstm_1 will not use cuDNN kernel since it doesn't meet the cuDNN kernel criteria. It will use generic GPU kernel as fallback when running on GPU\n",
            "WARNING:tensorflow:Layer lstm_2 will not use cuDNN kernel since it doesn't meet the cuDNN kernel criteria. It will use generic GPU kernel as fallback when running on GPU\n",
            "21/21 [==============================] - 0s 23ms/step - loss: 0.0026 - accuracy: 1.0000\n"
          ],
          "name": "stdout"
        },
        {
          "output_type": "execute_result",
          "data": {
            "text/plain": [
              "<tensorflow.python.keras.callbacks.History at 0x7f106c158350>"
            ]
          },
          "metadata": {
            "tags": []
          },
          "execution_count": 16
        }
      ]
    },
    {
      "cell_type": "code",
      "metadata": {
        "colab": {
          "base_uri": "https://localhost:8080/",
          "height": 545
        },
        "id": "FZae3goHHgW3",
        "outputId": "011070de-5d0b-4c83-dd61-faefc8f694a9"
      },
      "source": [
        "#Hyper Parameter Model Evaluation\n",
        "eval_result = hypermodel.evaluate(X_test, y_test)\n",
        "print(\"[test loss, test accuracy]:\", eval_result)\n",
        "\n",
        "eval_model(hypermodel, X_test, y_test)"
      ],
      "execution_count": null,
      "outputs": [
        {
          "output_type": "stream",
          "text": [
            "21/21 [==============================] - 0s 4ms/step - loss: 8.8276e-04 - accuracy: 1.0000\n",
            "[test loss, test accuracy]: [0.0008827605633996427, 1.0]\n",
            "              precision    recall  f1-score   support\n",
            "\n",
            "         0.0       1.00      1.00      1.00       180\n",
            "         1.0       1.00      1.00      1.00       477\n",
            "\n",
            "    accuracy                           1.00       657\n",
            "   macro avg       1.00      1.00      1.00       657\n",
            "weighted avg       1.00      1.00      1.00       657\n",
            "\n"
          ],
          "name": "stdout"
        },
        {
          "output_type": "display_data",
          "data": {
            "image/png": "[encoded data removed]",
            "text/plain": [
              "<Figure size 1008x360 with 1 Axes>"
            ]
          },
          "metadata": {
            "tags": [],
            "needs_background": "light"
          }
        }
      ]
    }
  ]
}
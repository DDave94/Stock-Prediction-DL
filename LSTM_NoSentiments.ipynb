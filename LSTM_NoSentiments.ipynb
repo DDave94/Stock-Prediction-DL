{
  "nbformat": 4,
  "nbformat_minor": 0,
  "metadata": {
    "colab": {
      "name": "LSTM_NoSentiments.ipynb",
      "provenance": [],
      "collapsed_sections": [],
      "toc_visible": true,
      "machine_shape": "hm",
      "authorship_tag": "ABX9TyMFG3lzQbA87FZlu7dHlqhI"
    },
    "kernelspec": {
      "name": "python3",
      "display_name": "Python 3"
    },
    "language_info": {
      "name": "python"
    },
    "accelerator": "GPU"
  },
  "cells": [
    {
      "cell_type": "markdown",
      "metadata": {
        "id": "ZweBLLSBHqS9"
      },
      "source": [
        "# Microsoft Stock Prediction \n",
        "\n",
        "- Using historical stock data to predict a \"buy or sell\" signal. \n",
        "\n"
      ]
    },
    {
      "cell_type": "code",
      "metadata": {
        "id": "S8Ue4rVJSfeX"
      },
      "source": [
        "!pip install -q -U keras-tuner"
      ],
      "execution_count": 1,
      "outputs": []
    },
    {
      "cell_type": "code",
      "metadata": {
        "id": "9FEbgd0_HbuF"
      },
      "source": [
        "# Loading required libraries\n",
        "import pandas as pd\n",
        "import numpy as np\n",
        "\n",
        "from sklearn.preprocessing import MinMaxScaler, StandardScaler\n",
        "from sklearn.metrics import classification_report\n",
        "\n",
        "import tensorflow as tf\n",
        "from tensorflow import keras \n",
        "from keras.models import Sequential\n",
        "from keras.losses import BinaryCrossentropy\n",
        "from keras.layers import Dense, LSTM, Dropout\n",
        "from keras.wrappers.scikit_learn import KerasClassifier\n",
        "from keras.optimizers import SGD, Adam, RMSprop\n",
        "import matplotlib.pyplot  as plt\n",
        "import kerastuner as kt\n",
        "\n",
        "pd.set_option(\"display.max_colwidth\" , 100, \"display.max_columns\", 20)\n",
        "np.random.seed(12)\n",
        "tf.random.set_seed(12)\n"
      ],
      "execution_count": 2,
      "outputs": []
    },
    {
      "cell_type": "code",
      "metadata": {
        "id": "3O4cU62aBqFb"
      },
      "source": [
        "# Loading Raw Microsoft Stock data containing daily metrics\n",
        "msft_df = pd.read_csv(\"https://raw.githubusercontent.com/DDave94/Stock-Prediction-DL/main/datasets/raw/MSFT.csv\")\n",
        "\n",
        "# Loading Twitter Sentiment data containing daily twitter sentiment scores based on daily aggregate tweet analysis\n",
        "twitter_df = pd.read_csv(\"https://raw.githubusercontent.com/DDave94/Stock-Prediction-DL/main/datasets/twitter_sentiment_data.csv\")"
      ],
      "execution_count": 3,
      "outputs": []
    },
    {
      "cell_type": "markdown",
      "metadata": {
        "id": "cTjWNWnJMcKt"
      },
      "source": [
        "### Feature Engineering\n",
        "- Generating other prediction metrics such as:\n",
        "    -  **Moving Average** : A moving average indicates the trend of the price movement and reduced the amount of \"noise\" on the price chart. We calculate different types of moving averages below. \n",
        "    - **Rate Of Change(ROC)**: A measure of the percentage change between the current price and past prices from n days\n",
        "    - **Momentum** : The rate of acceleration at which the stock price is changing based on historical training data\n",
        "\n",
        "- Adding Twitter sentiment feature column. However, this feature will not be used for model training and prediction, this was only added to create the same reference dataset (matching dates) as the other model with Twitter Sentiments. \n",
        "\n",
        "- Adding target column \"signal\". For the MSFT stock to have a buy signal on a given day, the short moving average within the last 5 days must be greater than the long moving average in the last 20 days. "
      ]
    },
    {
      "cell_type": "code",
      "metadata": {
        "id": "mcVSPC6jkyFE"
      },
      "source": [
        "# Create short simple moving average over the short window of one week\n",
        "msft_df['short_mavg'] = msft_df['Close'].rolling(window=5, min_periods=1, center=False).mean()\n",
        "\n",
        "# Create long simple moving average over the long window of four weeks\n",
        "msft_df['long_mavg'] = msft_df['Close'].rolling(window=20, min_periods=10, center=False).mean()\n",
        "\n",
        "# Calculation of moving average\n",
        "def MA(df, n):\n",
        "    MA = pd.Series(df['Close'].rolling(n, min_periods=n).mean(), name='MA_' + str(n))\n",
        "    return MA\n",
        "\n",
        "msft_df['MA30'] = MA(msft_df, 30)\n",
        "msft_df['MA90'] = MA(msft_df, 90)\n",
        "\n",
        "#calculation of exponential moving average\n",
        "def EMA(df, n):\n",
        "    EMA = pd.Series(df['Close'].ewm(span=n, min_periods=n).mean(), name='EMA_' + str(n))\n",
        "    return EMA\n",
        "\n",
        "msft_df['EMA10'] = EMA(msft_df, 10)\n",
        "msft_df['EMA30'] = EMA(msft_df, 30)\n",
        "\n",
        "#calculation of rate of change\n",
        "def ROC(df, n):  \n",
        "    M = df.diff(n - 1)  \n",
        "    N = df.shift(n - 1)  \n",
        "    ROC = pd.Series(((M / N) * 100), name = 'ROC_' + str(n))   \n",
        "    return ROC\n",
        "\n",
        "msft_df['ROC10'] = ROC(msft_df['Close'], 10)\n",
        "msft_df['ROC30'] = ROC(msft_df['Close'], 30)\n",
        "\n",
        "#Calculation of price momentum\n",
        "def MOM(df, n):   \n",
        "    MOM = pd.Series(df.diff(n), name='Momentum_' + str(n))   \n",
        "    return MOM\n",
        "\n",
        "msft_df['MOM10'] = MOM(msft_df['Close'], 10)\n",
        "msft_df['MOM30'] = MOM(msft_df['Close'], 30)\n"
      ],
      "execution_count": 4,
      "outputs": []
    },
    {
      "cell_type": "code",
      "metadata": {
        "colab": {
          "base_uri": "https://localhost:8080/",
          "height": 197
        },
        "id": "7CK_MZuYpJc1",
        "outputId": "a256ad6d-cd3d-4820-9681-eed82772bb19"
      },
      "source": [
        "# Merging the twitter sentiment scores for each day of stock trading\n",
        "# This step is only performed when utilizing sentiment for stock signal prediction\n",
        "\n",
        "msft_df['Date'] = msft_df['Date'].astype(str)\n",
        "twitter_df['Date'] = twitter_df['Date'].astype(str)\n",
        "\n",
        "full_data = pd.merge(msft_df,twitter_df, how='inner', on='Date')\n",
        "full_data = full_data.drop(columns=['TwitterSentiment'])\n",
        "full_data.head()"
      ],
      "execution_count": 5,
      "outputs": [
        {
          "output_type": "execute_result",
          "data": {
            "text/html": [
              "<div>\n",
              "<style scoped>\n",
              "    .dataframe tbody tr th:only-of-type {\n",
              "        vertical-align: middle;\n",
              "    }\n",
              "\n",
              "    .dataframe tbody tr th {\n",
              "        vertical-align: top;\n",
              "    }\n",
              "\n",
              "    .dataframe thead th {\n",
              "        text-align: right;\n",
              "    }\n",
              "</style>\n",
              "<table border=\"1\" class=\"dataframe\">\n",
              "  <thead>\n",
              "    <tr style=\"text-align: right;\">\n",
              "      <th></th>\n",
              "      <th>Date</th>\n",
              "      <th>Open</th>\n",
              "      <th>High</th>\n",
              "      <th>Low</th>\n",
              "      <th>Close</th>\n",
              "      <th>Adj Close</th>\n",
              "      <th>Volume</th>\n",
              "      <th>short_mavg</th>\n",
              "      <th>long_mavg</th>\n",
              "      <th>MA30</th>\n",
              "      <th>MA90</th>\n",
              "      <th>EMA10</th>\n",
              "      <th>EMA30</th>\n",
              "      <th>ROC10</th>\n",
              "      <th>ROC30</th>\n",
              "      <th>MOM10</th>\n",
              "      <th>MOM30</th>\n",
              "    </tr>\n",
              "  </thead>\n",
              "  <tbody>\n",
              "    <tr>\n",
              "      <th>0</th>\n",
              "      <td>2017-01-03</td>\n",
              "      <td>62.790001</td>\n",
              "      <td>62.840000</td>\n",
              "      <td>62.130001</td>\n",
              "      <td>62.580002</td>\n",
              "      <td>58.538418</td>\n",
              "      <td>20694100</td>\n",
              "      <td>62.778001</td>\n",
              "      <td>62.4305</td>\n",
              "      <td>61.742667</td>\n",
              "      <td>59.384111</td>\n",
              "      <td>62.759953</td>\n",
              "      <td>61.864946</td>\n",
              "      <td>-1.634701</td>\n",
              "      <td>3.695119</td>\n",
              "      <td>0.280003</td>\n",
              "      <td>1.940003</td>\n",
              "    </tr>\n",
              "    <tr>\n",
              "      <th>1</th>\n",
              "      <td>2017-01-04</td>\n",
              "      <td>62.480000</td>\n",
              "      <td>62.750000</td>\n",
              "      <td>62.119999</td>\n",
              "      <td>62.299999</td>\n",
              "      <td>58.276497</td>\n",
              "      <td>21340000</td>\n",
              "      <td>62.582001</td>\n",
              "      <td>62.5345</td>\n",
              "      <td>61.807667</td>\n",
              "      <td>59.430000</td>\n",
              "      <td>62.676325</td>\n",
              "      <td>61.893014</td>\n",
              "      <td>-1.951530</td>\n",
              "      <td>2.366083</td>\n",
              "      <td>-1.320000</td>\n",
              "      <td>1.950001</td>\n",
              "    </tr>\n",
              "    <tr>\n",
              "      <th>2</th>\n",
              "      <td>2017-01-05</td>\n",
              "      <td>62.189999</td>\n",
              "      <td>62.660000</td>\n",
              "      <td>62.029999</td>\n",
              "      <td>62.299999</td>\n",
              "      <td>58.276497</td>\n",
              "      <td>24876000</td>\n",
              "      <td>62.444000</td>\n",
              "      <td>62.6520</td>\n",
              "      <td>61.855667</td>\n",
              "      <td>59.477444</td>\n",
              "      <td>62.607902</td>\n",
              "      <td>61.919271</td>\n",
              "      <td>-1.951530</td>\n",
              "      <td>1.930628</td>\n",
              "      <td>-1.240002</td>\n",
              "      <td>1.439998</td>\n",
              "    </tr>\n",
              "    <tr>\n",
              "      <th>3</th>\n",
              "      <td>2017-01-06</td>\n",
              "      <td>62.299999</td>\n",
              "      <td>63.150002</td>\n",
              "      <td>62.040001</td>\n",
              "      <td>62.840000</td>\n",
              "      <td>58.781628</td>\n",
              "      <td>19922900</td>\n",
              "      <td>62.432000</td>\n",
              "      <td>62.7255</td>\n",
              "      <td>61.913000</td>\n",
              "      <td>59.530111</td>\n",
              "      <td>62.650102</td>\n",
              "      <td>61.978673</td>\n",
              "      <td>-1.117229</td>\n",
              "      <td>4.039732</td>\n",
              "      <td>-0.700001</td>\n",
              "      <td>1.720001</td>\n",
              "    </tr>\n",
              "    <tr>\n",
              "      <th>4</th>\n",
              "      <td>2017-01-09</td>\n",
              "      <td>62.759998</td>\n",
              "      <td>63.080002</td>\n",
              "      <td>62.540001</td>\n",
              "      <td>62.639999</td>\n",
              "      <td>58.594547</td>\n",
              "      <td>20382700</td>\n",
              "      <td>62.532000</td>\n",
              "      <td>62.8070</td>\n",
              "      <td>61.987667</td>\n",
              "      <td>59.582889</td>\n",
              "      <td>62.648265</td>\n",
              "      <td>62.021339</td>\n",
              "      <td>-0.948771</td>\n",
              "      <td>3.485875</td>\n",
              "      <td>-0.910000</td>\n",
              "      <td>2.239997</td>\n",
              "    </tr>\n",
              "  </tbody>\n",
              "</table>\n",
              "</div>"
            ],
            "text/plain": [
              "         Date       Open       High        Low      Close  Adj Close  \\\n",
              "0  2017-01-03  62.790001  62.840000  62.130001  62.580002  58.538418   \n",
              "1  2017-01-04  62.480000  62.750000  62.119999  62.299999  58.276497   \n",
              "2  2017-01-05  62.189999  62.660000  62.029999  62.299999  58.276497   \n",
              "3  2017-01-06  62.299999  63.150002  62.040001  62.840000  58.781628   \n",
              "4  2017-01-09  62.759998  63.080002  62.540001  62.639999  58.594547   \n",
              "\n",
              "     Volume  short_mavg  long_mavg       MA30       MA90      EMA10  \\\n",
              "0  20694100   62.778001    62.4305  61.742667  59.384111  62.759953   \n",
              "1  21340000   62.582001    62.5345  61.807667  59.430000  62.676325   \n",
              "2  24876000   62.444000    62.6520  61.855667  59.477444  62.607902   \n",
              "3  19922900   62.432000    62.7255  61.913000  59.530111  62.650102   \n",
              "4  20382700   62.532000    62.8070  61.987667  59.582889  62.648265   \n",
              "\n",
              "       EMA30     ROC10     ROC30     MOM10     MOM30  \n",
              "0  61.864946 -1.634701  3.695119  0.280003  1.940003  \n",
              "1  61.893014 -1.951530  2.366083 -1.320000  1.950001  \n",
              "2  61.919271 -1.951530  1.930628 -1.240002  1.439998  \n",
              "3  61.978673 -1.117229  4.039732 -0.700001  1.720001  \n",
              "4  62.021339 -0.948771  3.485875 -0.910000  2.239997  "
            ]
          },
          "metadata": {
            "tags": []
          },
          "execution_count": 5
        }
      ]
    },
    {
      "cell_type": "code",
      "metadata": {
        "colab": {
          "base_uri": "https://localhost:8080/",
          "height": 197
        },
        "id": "ddu9ABFfLv1X",
        "outputId": "b162d7ed-bfb9-48d9-fa94-89129aa31340"
      },
      "source": [
        "# Create target class which is a buying or selling signal given the stock price movement (SMA vs LMA)\n",
        "full_data['signal'] = np.where(full_data['short_mavg'] > full_data['long_mavg'], 1.0, 0.0)\n",
        "full_data.head()"
      ],
      "execution_count": 6,
      "outputs": [
        {
          "output_type": "execute_result",
          "data": {
            "text/html": [
              "<div>\n",
              "<style scoped>\n",
              "    .dataframe tbody tr th:only-of-type {\n",
              "        vertical-align: middle;\n",
              "    }\n",
              "\n",
              "    .dataframe tbody tr th {\n",
              "        vertical-align: top;\n",
              "    }\n",
              "\n",
              "    .dataframe thead th {\n",
              "        text-align: right;\n",
              "    }\n",
              "</style>\n",
              "<table border=\"1\" class=\"dataframe\">\n",
              "  <thead>\n",
              "    <tr style=\"text-align: right;\">\n",
              "      <th></th>\n",
              "      <th>Date</th>\n",
              "      <th>Open</th>\n",
              "      <th>High</th>\n",
              "      <th>Low</th>\n",
              "      <th>Close</th>\n",
              "      <th>Adj Close</th>\n",
              "      <th>Volume</th>\n",
              "      <th>short_mavg</th>\n",
              "      <th>long_mavg</th>\n",
              "      <th>MA30</th>\n",
              "      <th>MA90</th>\n",
              "      <th>EMA10</th>\n",
              "      <th>EMA30</th>\n",
              "      <th>ROC10</th>\n",
              "      <th>ROC30</th>\n",
              "      <th>MOM10</th>\n",
              "      <th>MOM30</th>\n",
              "      <th>signal</th>\n",
              "    </tr>\n",
              "  </thead>\n",
              "  <tbody>\n",
              "    <tr>\n",
              "      <th>0</th>\n",
              "      <td>2017-01-03</td>\n",
              "      <td>62.790001</td>\n",
              "      <td>62.840000</td>\n",
              "      <td>62.130001</td>\n",
              "      <td>62.580002</td>\n",
              "      <td>58.538418</td>\n",
              "      <td>20694100</td>\n",
              "      <td>62.778001</td>\n",
              "      <td>62.4305</td>\n",
              "      <td>61.742667</td>\n",
              "      <td>59.384111</td>\n",
              "      <td>62.759953</td>\n",
              "      <td>61.864946</td>\n",
              "      <td>-1.634701</td>\n",
              "      <td>3.695119</td>\n",
              "      <td>0.280003</td>\n",
              "      <td>1.940003</td>\n",
              "      <td>1.0</td>\n",
              "    </tr>\n",
              "    <tr>\n",
              "      <th>1</th>\n",
              "      <td>2017-01-04</td>\n",
              "      <td>62.480000</td>\n",
              "      <td>62.750000</td>\n",
              "      <td>62.119999</td>\n",
              "      <td>62.299999</td>\n",
              "      <td>58.276497</td>\n",
              "      <td>21340000</td>\n",
              "      <td>62.582001</td>\n",
              "      <td>62.5345</td>\n",
              "      <td>61.807667</td>\n",
              "      <td>59.430000</td>\n",
              "      <td>62.676325</td>\n",
              "      <td>61.893014</td>\n",
              "      <td>-1.951530</td>\n",
              "      <td>2.366083</td>\n",
              "      <td>-1.320000</td>\n",
              "      <td>1.950001</td>\n",
              "      <td>1.0</td>\n",
              "    </tr>\n",
              "    <tr>\n",
              "      <th>2</th>\n",
              "      <td>2017-01-05</td>\n",
              "      <td>62.189999</td>\n",
              "      <td>62.660000</td>\n",
              "      <td>62.029999</td>\n",
              "      <td>62.299999</td>\n",
              "      <td>58.276497</td>\n",
              "      <td>24876000</td>\n",
              "      <td>62.444000</td>\n",
              "      <td>62.6520</td>\n",
              "      <td>61.855667</td>\n",
              "      <td>59.477444</td>\n",
              "      <td>62.607902</td>\n",
              "      <td>61.919271</td>\n",
              "      <td>-1.951530</td>\n",
              "      <td>1.930628</td>\n",
              "      <td>-1.240002</td>\n",
              "      <td>1.439998</td>\n",
              "      <td>0.0</td>\n",
              "    </tr>\n",
              "    <tr>\n",
              "      <th>3</th>\n",
              "      <td>2017-01-06</td>\n",
              "      <td>62.299999</td>\n",
              "      <td>63.150002</td>\n",
              "      <td>62.040001</td>\n",
              "      <td>62.840000</td>\n",
              "      <td>58.781628</td>\n",
              "      <td>19922900</td>\n",
              "      <td>62.432000</td>\n",
              "      <td>62.7255</td>\n",
              "      <td>61.913000</td>\n",
              "      <td>59.530111</td>\n",
              "      <td>62.650102</td>\n",
              "      <td>61.978673</td>\n",
              "      <td>-1.117229</td>\n",
              "      <td>4.039732</td>\n",
              "      <td>-0.700001</td>\n",
              "      <td>1.720001</td>\n",
              "      <td>0.0</td>\n",
              "    </tr>\n",
              "    <tr>\n",
              "      <th>4</th>\n",
              "      <td>2017-01-09</td>\n",
              "      <td>62.759998</td>\n",
              "      <td>63.080002</td>\n",
              "      <td>62.540001</td>\n",
              "      <td>62.639999</td>\n",
              "      <td>58.594547</td>\n",
              "      <td>20382700</td>\n",
              "      <td>62.532000</td>\n",
              "      <td>62.8070</td>\n",
              "      <td>61.987667</td>\n",
              "      <td>59.582889</td>\n",
              "      <td>62.648265</td>\n",
              "      <td>62.021339</td>\n",
              "      <td>-0.948771</td>\n",
              "      <td>3.485875</td>\n",
              "      <td>-0.910000</td>\n",
              "      <td>2.239997</td>\n",
              "      <td>0.0</td>\n",
              "    </tr>\n",
              "  </tbody>\n",
              "</table>\n",
              "</div>"
            ],
            "text/plain": [
              "         Date       Open       High        Low      Close  Adj Close  \\\n",
              "0  2017-01-03  62.790001  62.840000  62.130001  62.580002  58.538418   \n",
              "1  2017-01-04  62.480000  62.750000  62.119999  62.299999  58.276497   \n",
              "2  2017-01-05  62.189999  62.660000  62.029999  62.299999  58.276497   \n",
              "3  2017-01-06  62.299999  63.150002  62.040001  62.840000  58.781628   \n",
              "4  2017-01-09  62.759998  63.080002  62.540001  62.639999  58.594547   \n",
              "\n",
              "     Volume  short_mavg  long_mavg       MA30       MA90      EMA10  \\\n",
              "0  20694100   62.778001    62.4305  61.742667  59.384111  62.759953   \n",
              "1  21340000   62.582001    62.5345  61.807667  59.430000  62.676325   \n",
              "2  24876000   62.444000    62.6520  61.855667  59.477444  62.607902   \n",
              "3  19922900   62.432000    62.7255  61.913000  59.530111  62.650102   \n",
              "4  20382700   62.532000    62.8070  61.987667  59.582889  62.648265   \n",
              "\n",
              "       EMA30     ROC10     ROC30     MOM10     MOM30  signal  \n",
              "0  61.864946 -1.634701  3.695119  0.280003  1.940003     1.0  \n",
              "1  61.893014 -1.951530  2.366083 -1.320000  1.950001     1.0  \n",
              "2  61.919271 -1.951530  1.930628 -1.240002  1.439998     0.0  \n",
              "3  61.978673 -1.117229  4.039732 -0.700001  1.720001     0.0  \n",
              "4  62.021339 -0.948771  3.485875 -0.910000  2.239997     0.0  "
            ]
          },
          "metadata": {
            "tags": []
          },
          "execution_count": 6
        }
      ]
    },
    {
      "cell_type": "markdown",
      "metadata": {
        "id": "e1LK5lE_n5YF"
      },
      "source": [
        "### Data Preparation \n",
        "- Normalizing data using MinMaxScaler()\n",
        "- Train,Test,Val split "
      ]
    },
    {
      "cell_type": "code",
      "metadata": {
        "colab": {
          "base_uri": "https://localhost:8080/"
        },
        "id": "JEHyQMopR4Te",
        "outputId": "46899105-e6de-48ee-91b8-da066058dbd8"
      },
      "source": [
        "# Creating Min Max scaler to scale all features (except date) from 0-1\n",
        "#scaler = MinMaxScaler(feature_range=(0,1))\n",
        "scaler = StandardScaler()\n",
        "\n",
        "temp = full_data.drop(['Date', 'signal'], axis=1)\n",
        "cols = temp.columns\n",
        "\n",
        "#Creating scaled data\n",
        "temp = scaler.fit_transform(temp)\n",
        "\n",
        "#Generating input_df which will be used for model training and predictions\n",
        "input_df = pd.concat([full_data['Date'],pd.DataFrame(temp, columns = cols),full_data['signal']], axis=1, ignore_index=False)\n",
        "print(input_df.shape)\n",
        "print(input_df.head(5))\n",
        "#input_df.to_csv('/content/input_df.csv')"
      ],
      "execution_count": 7,
      "outputs": [
        {
          "output_type": "stream",
          "text": [
            "(946, 18)\n",
            "         Date      Open      High       Low     Close  Adj Close    Volume  \\\n",
            "0  2017-01-03 -1.321765 -1.327899 -1.326408 -1.325880  -1.325567 -0.631103   \n",
            "1  2017-01-04 -1.328279 -1.329763 -1.326622 -1.331759  -1.330957 -0.583943   \n",
            "2  2017-01-05 -1.334371 -1.331628 -1.328540 -1.331759  -1.330957 -0.325763   \n",
            "3  2017-01-06 -1.332060 -1.321478 -1.328327 -1.320421  -1.320562 -0.687412   \n",
            "4  2017-01-09 -1.322396 -1.322928 -1.317670 -1.324621  -1.324412 -0.653840   \n",
            "\n",
            "   short_mavg  long_mavg      MA30      MA90     EMA10     EMA30     ROC10  \\\n",
            "0   -1.319873  -1.317537 -1.325294 -1.338454 -1.318020 -1.324668 -0.714598   \n",
            "1   -1.324004  -1.315319 -1.323898 -1.337422 -1.319791 -1.324064 -0.793975   \n",
            "2   -1.326913  -1.312814 -1.322868 -1.336354 -1.321240 -1.323500 -0.793975   \n",
            "3   -1.327166  -1.311246 -1.321636 -1.335169 -1.320346 -1.322222 -0.584954   \n",
            "4   -1.325058  -1.309509 -1.320033 -1.333981 -1.320385 -1.321304 -0.542750   \n",
            "\n",
            "      ROC30     MOM10     MOM30  signal  \n",
            "0 -0.027702 -0.206077 -0.289512     1.0  \n",
            "1 -0.245784 -0.454031 -0.288442     1.0  \n",
            "2 -0.317238 -0.441633 -0.343058     0.0  \n",
            "3  0.028846 -0.357949 -0.313072     0.0  \n",
            "4 -0.062037 -0.390493 -0.257386     0.0  \n"
          ],
          "name": "stdout"
        }
      ]
    },
    {
      "cell_type": "code",
      "metadata": {
        "colab": {
          "base_uri": "https://localhost:8080/"
        },
        "id": "LXPhUFTdQdOu",
        "outputId": "cf581871-8f69-40d0-ab31-f3f343a3509e"
      },
      "source": [
        "# Splitting entire data to create Training and Testing Data\n",
        "# We will need to split the training and testing data into equivalent \n",
        "# time steps to train LSTM Model\n",
        "\n",
        "# Creating Training and Testing indices\n",
        "train_data_size = int((0.7)*(input_df.shape[0]))\n",
        "test_data_size = int(input_df.shape[0] - train_data_size)\n",
        "\n",
        "# Allocating data instances to training and testing sets\n",
        "train_data = input_df.iloc[0:train_data_size,1:]\n",
        "test_data = input_df.iloc[train_data_size:input_df.shape[0],1:]\n",
        "\n",
        "full_training_data = train_data # Used during model prediction\n",
        "full_test_data = test_data  # USed during model prediction\n",
        "print(train_data.head(10))\n",
        "\n",
        "# Creating numpy arrays from dataframes for future processing\n",
        "train_data = np.array(train_data)\n",
        "test_data = np.array(test_data)\n",
        "\n",
        "print(train_data.shape)\n",
        "print(test_data.shape)"
      ],
      "execution_count": 8,
      "outputs": [
        {
          "output_type": "stream",
          "text": [
            "       Open      High       Low     Close  Adj Close    Volume  short_mavg  \\\n",
            "0 -1.321765 -1.327899 -1.326408 -1.325880  -1.325567 -0.631103   -1.319873   \n",
            "1 -1.328279 -1.329763 -1.326622 -1.331759  -1.330957 -0.583943   -1.324004   \n",
            "2 -1.334371 -1.331628 -1.328540 -1.331759  -1.330957 -0.325763   -1.326913   \n",
            "3 -1.332060 -1.321478 -1.328327 -1.320421  -1.320562 -0.687412   -1.327166   \n",
            "4 -1.322396 -1.322928 -1.317670 -1.324621  -1.324412 -0.653840   -1.325058   \n",
            "5 -1.323026 -1.323135 -1.323211 -1.325041  -1.324797 -0.784514   -1.324889   \n",
            "6 -1.325547 -1.319821 -1.320014 -1.313073  -1.313825 -0.570997   -1.321138   \n",
            "7 -1.316093 -1.316300 -1.330245 -1.325250  -1.324989 -0.611090   -1.319831   \n",
            "8 -1.325337 -1.327278 -1.321720 -1.323361  -1.323257 -0.723963   -1.320421   \n",
            "9 -1.324076 -1.330799 -1.328540 -1.326930  -1.326529 -0.633301   -1.320885   \n",
            "\n",
            "   long_mavg      MA30      MA90     EMA10     EMA30     ROC10     ROC30  \\\n",
            "0  -1.317537 -1.325294 -1.338454 -1.318020 -1.324668 -0.714598 -0.027702   \n",
            "1  -1.315319 -1.323898 -1.337422 -1.319791 -1.324064 -0.793975 -0.245784   \n",
            "2  -1.312814 -1.322868 -1.336354 -1.321240 -1.323500 -0.793975 -0.317238   \n",
            "3  -1.311246 -1.321636 -1.335169 -1.320346 -1.322222 -0.584954  0.028846   \n",
            "4  -1.309509 -1.320033 -1.333981 -1.320385 -1.321304 -0.542750 -0.062037   \n",
            "5  -1.308816 -1.318537 -1.332691 -1.320494 -1.320474 -0.566353 -0.089865   \n",
            "6  -1.307728 -1.316690 -1.331290 -1.318388 -1.318906 -0.225504 -0.069966   \n",
            "7  -1.308123 -1.315602 -1.330055 -1.318899 -1.318244 -0.420559  0.005880   \n",
            "8  -1.308101 -1.313855 -1.328782 -1.318970 -1.317500 -0.079270  0.336095   \n",
            "9  -1.308155 -1.311471 -1.327564 -1.319682 -1.317039 -0.325068  0.274348   \n",
            "\n",
            "      MOM10     MOM30  signal  \n",
            "0 -0.206077 -0.289512     1.0  \n",
            "1 -0.454031 -0.288442     1.0  \n",
            "2 -0.441633 -0.343058     0.0  \n",
            "3 -0.357949 -0.313072     0.0  \n",
            "4 -0.390493 -0.257386     0.0  \n",
            "5 -0.345552 -0.273449     0.0  \n",
            "6 -0.263417 -0.220975     0.0  \n",
            "7 -0.308359 -0.334490     0.0  \n",
            "8 -0.280464 -0.235967     0.0  \n",
            "9 -0.189031 -0.140658     0.0  \n",
            "(662, 17)\n",
            "(284, 17)\n"
          ],
          "name": "stdout"
        }
      ]
    },
    {
      "cell_type": "markdown",
      "metadata": {
        "id": "MMlEUHNikxDO"
      },
      "source": [
        "### Creating Training and Testing Sets"
      ]
    },
    {
      "cell_type": "code",
      "metadata": {
        "id": "XCRZnE9fUWC6"
      },
      "source": [
        "# Function to create time series data for training and testing\n",
        "# As an example, this function looks back at five days and adds the 6th day label \n",
        "# for X and y respectively.\n",
        "def create_rolling_data(data, time_step, label_col): \n",
        "    X = []\n",
        "    y = []\n",
        "\n",
        "    for i in range(time_step, train_data.shape[0]):\n",
        "        X.append(train_data[i-time_step:i])\n",
        "        y.append(train_data[i,label_col])\n",
        "    \n",
        "    return np.array(X), np.array(y)\n",
        "\n",
        "time_step = 5\n",
        "label_col = 16\n",
        "\n",
        "X_train, y_train = create_rolling_data(train_data, time_step, label_col)\n",
        "\n",
        "# Gathering the last five days of training data as this will be used to test \n",
        "# the first label in y_test\n",
        "last_5_days = full_training_data.tail()\n",
        "df = last_5_days.append([full_test_data], ignore_index=True)\n",
        "\n",
        "X_test, y_test = create_rolling_data(df, time_step, label_col)"
      ],
      "execution_count": 9,
      "outputs": []
    },
    {
      "cell_type": "markdown",
      "metadata": {
        "id": "_be_TpoG95wA"
      },
      "source": [
        "### Model Function Definitions\n",
        "- Creating LSTM model and evaluaperforming hyperparameter tuning \n",
        "- Evaluating model by comparing predicted signals against actual signals in testing dataset"
      ]
    },
    {
      "cell_type": "code",
      "metadata": {
        "id": "m10ZjBGw959c"
      },
      "source": [
        "# Model definition\n",
        "def build_model():\n",
        "\n",
        "    model = Sequential()\n",
        "\n",
        "    model.add(LSTM(units = 60, activation = 'relu', return_sequences = True, input_shape = (X_train.shape[1], X_train.shape[2])))\n",
        "    model.add(Dropout(0.2))\n",
        "\n",
        "    model.add(LSTM(units = 60, activation = 'relu', return_sequences = True))\n",
        "    model.add(Dropout(0.2))\n",
        "\n",
        "    model.add(LSTM(units = 120, activation = 'relu'))\n",
        "    model.add(Dropout(0.2))\n",
        "\n",
        "    model.add(Dense(units = 1, activation = 'sigmoid'))\n",
        "   \n",
        "    print(model.summary())\n",
        "\n",
        "    return model\n",
        "\n",
        "# Model Compile\n",
        "def compile_model(model):\n",
        "    \n",
        "    model.compile(optimizer='adam', loss = 'binary_crossentropy', metrics = ['accuracy'])\n",
        "\n",
        "    return model\n",
        "\n",
        "# Model Training\n",
        "def train_model(model, X_train, Y_train):\n",
        "    \n",
        "    batch_size = 32\n",
        "    epochs = 20\n",
        "       \n",
        "    history = model.fit(X_train, y_train, epochs=epochs, batch_size=batch_size, verbose = 1)\n",
        "\n",
        "    return model, history\n",
        "\n",
        "# Model Evaluation and Results Evaluation\n",
        "def eval_model(model, X_test, y_test):\n",
        "\n",
        "    y_pred = model.predict(X_test)\n",
        "    y_pred = y_pred.flatten()\n",
        "    print(classification_report(y_test.round(), y_pred.round()))\n",
        "\n",
        "\n",
        "    # Visualising the results\n",
        "    \n",
        "    plt.figure(figsize=(14,5))\n",
        "    plt.plot(y_test, color = 'red', label = 'Actual Buy/Sell Signal ')\n",
        "    plt.plot(y_pred, color = 'blue', label = 'Predicted Buy/Sell Signal')\n",
        "    plt.title('MSFT LSTM Stock Buy/Sell Prediction')\n",
        "    plt.xlabel('Time')\n",
        "    plt.ylabel('MSFT Stock Signal')\n",
        "    plt.legend()\n",
        "    plt.show()\n",
        "   \n",
        "    return None\n"
      ],
      "execution_count": 10,
      "outputs": []
    },
    {
      "cell_type": "code",
      "metadata": {
        "colab": {
          "base_uri": "https://localhost:8080/"
        },
        "id": "xk9llyIIWPvN",
        "outputId": "02ac1bd9-4b9e-4007-9058-5324682b0447"
      },
      "source": [
        "#Executing functions\n",
        "model = build_model()\n",
        "model = compile_model(model)\n",
        "model, history = train_model(model, X_train, y_train)"
      ],
      "execution_count": 11,
      "outputs": [
        {
          "output_type": "stream",
          "text": [
            "WARNING:tensorflow:Layer lstm will not use cuDNN kernel since it doesn't meet the cuDNN kernel criteria. It will use generic GPU kernel as fallback when running on GPU\n",
            "WARNING:tensorflow:Layer lstm_1 will not use cuDNN kernel since it doesn't meet the cuDNN kernel criteria. It will use generic GPU kernel as fallback when running on GPU\n",
            "WARNING:tensorflow:Layer lstm_2 will not use cuDNN kernel since it doesn't meet the cuDNN kernel criteria. It will use generic GPU kernel as fallback when running on GPU\n",
            "Model: \"sequential\"\n",
            "_________________________________________________________________\n",
            "Layer (type)                 Output Shape              Param #   \n",
            "=================================================================\n",
            "lstm (LSTM)                  (None, 5, 60)             18720     \n",
            "_________________________________________________________________\n",
            "dropout (Dropout)            (None, 5, 60)             0         \n",
            "_________________________________________________________________\n",
            "lstm_1 (LSTM)                (None, 5, 60)             29040     \n",
            "_________________________________________________________________\n",
            "dropout_1 (Dropout)          (None, 5, 60)             0         \n",
            "_________________________________________________________________\n",
            "lstm_2 (LSTM)                (None, 120)               86880     \n",
            "_________________________________________________________________\n",
            "dropout_2 (Dropout)          (None, 120)               0         \n",
            "_________________________________________________________________\n",
            "dense (Dense)                (None, 1)                 121       \n",
            "=================================================================\n",
            "Total params: 134,761\n",
            "Trainable params: 134,761\n",
            "Non-trainable params: 0\n",
            "_________________________________________________________________\n",
            "None\n",
            "Epoch 1/20\n",
            "21/21 [==============================] - 4s 31ms/step - loss: 0.6760 - accuracy: 0.6164\n",
            "Epoch 2/20\n",
            "21/21 [==============================] - 1s 31ms/step - loss: 0.5240 - accuracy: 0.7506\n",
            "Epoch 3/20\n",
            "21/21 [==============================] - 1s 30ms/step - loss: 0.3923 - accuracy: 0.7839\n",
            "Epoch 4/20\n",
            "21/21 [==============================] - 1s 31ms/step - loss: 0.3132 - accuracy: 0.8700\n",
            "Epoch 5/20\n",
            "21/21 [==============================] - 1s 31ms/step - loss: 0.3308 - accuracy: 0.8454\n",
            "Epoch 6/20\n",
            "21/21 [==============================] - 1s 30ms/step - loss: 0.2792 - accuracy: 0.8751\n",
            "Epoch 7/20\n",
            "21/21 [==============================] - 1s 30ms/step - loss: 0.2770 - accuracy: 0.8723\n",
            "Epoch 8/20\n",
            "21/21 [==============================] - 1s 30ms/step - loss: 0.2152 - accuracy: 0.9076\n",
            "Epoch 9/20\n",
            "21/21 [==============================] - 1s 31ms/step - loss: 0.3131 - accuracy: 0.8936\n",
            "Epoch 10/20\n",
            "21/21 [==============================] - 1s 30ms/step - loss: 0.2381 - accuracy: 0.9033\n",
            "Epoch 11/20\n",
            "21/21 [==============================] - 1s 29ms/step - loss: 0.2345 - accuracy: 0.8862\n",
            "Epoch 12/20\n",
            "21/21 [==============================] - 1s 30ms/step - loss: 0.2515 - accuracy: 0.8785\n",
            "Epoch 13/20\n",
            "21/21 [==============================] - 1s 31ms/step - loss: 0.2340 - accuracy: 0.9014\n",
            "Epoch 14/20\n",
            "21/21 [==============================] - 1s 31ms/step - loss: 0.2379 - accuracy: 0.8965\n",
            "Epoch 15/20\n",
            "21/21 [==============================] - 1s 30ms/step - loss: 0.1869 - accuracy: 0.9204\n",
            "Epoch 16/20\n",
            "21/21 [==============================] - 1s 29ms/step - loss: 0.2128 - accuracy: 0.8959\n",
            "Epoch 17/20\n",
            "21/21 [==============================] - 1s 30ms/step - loss: 0.2185 - accuracy: 0.9081\n",
            "Epoch 18/20\n",
            "21/21 [==============================] - 1s 30ms/step - loss: 0.1983 - accuracy: 0.9152\n",
            "Epoch 19/20\n",
            "21/21 [==============================] - 1s 31ms/step - loss: 0.2125 - accuracy: 0.9131\n",
            "Epoch 20/20\n",
            "21/21 [==============================] - 1s 30ms/step - loss: 0.2404 - accuracy: 0.8950\n"
          ],
          "name": "stdout"
        }
      ]
    },
    {
      "cell_type": "code",
      "metadata": {
        "colab": {
          "base_uri": "https://localhost:8080/",
          "height": 510
        },
        "id": "e_nX3G58KHQG",
        "outputId": "bc465ece-2f20-4f6b-db54-830fc9d847ed"
      },
      "source": [
        "# Testing Model\n",
        "eval_model(model, X_test, y_test)"
      ],
      "execution_count": 12,
      "outputs": [
        {
          "output_type": "stream",
          "text": [
            "              precision    recall  f1-score   support\n",
            "\n",
            "         0.0       0.89      0.84      0.87       180\n",
            "         1.0       0.94      0.96      0.95       477\n",
            "\n",
            "    accuracy                           0.93       657\n",
            "   macro avg       0.92      0.90      0.91       657\n",
            "weighted avg       0.93      0.93      0.93       657\n",
            "\n"
          ],
          "name": "stdout"
        },
        {
          "output_type": "display_data",
          "data": {
            "image/png": "[encoded data removed]",
            "text/plain": [
              "<Figure size 1008x360 with 1 Axes>"
            ]
          },
          "metadata": {
            "tags": [],
            "needs_background": "light"
          }
        }
      ]
    },
    {
      "cell_type": "markdown",
      "metadata": {
        "id": "pJEAWalVTA3d"
      },
      "source": [
        "### Hyperparameter Tuning\n",
        "- Defining function for hyperparameter tuning"
      ]
    },
    {
      "cell_type": "code",
      "metadata": {
        "id": "bpd2FjlOS_qr"
      },
      "source": [
        "def model_builder(hp):\n",
        "\n",
        "    #Defining Model \n",
        "    hyper_model = Sequential()\n",
        "\n",
        "    hyper_model.add(LSTM(units = hp.Int('input_layer', 10, 90, step=10), activation = 'relu', \n",
        "                         return_sequences = True, input_shape = (X_train.shape[1], X_train.shape[2])))\n",
        "    hyper_model.add(Dropout(hp.Choice('Drop1', values = [0.1,0.2,0.3])))\n",
        "\n",
        "    hyper_model.add(LSTM(units = hp.Int('first_hidden', 10, 90, step=10), \n",
        "                         activation = 'relu', return_sequences = True))\n",
        "    hyper_model.add(Dropout(hp.Choice('Drop2', values = [0.1,0.2,0.3])))\n",
        "    \n",
        "\n",
        "    hyper_model.add(LSTM(units = hp.Int('second_hidden', 10, 90, step=10), \n",
        "                         activation = 'relu'))\n",
        "    hyper_model.add(Dropout(hp.Choice('Drop3', values = [0.1,0.2,0.3])))\n",
        "\n",
        "    hyper_model.add(Dense(units = 1, activation = 'sigmoid'))\n",
        "        \n",
        "    hyper_model.compile(optimizer = Adam(learning_rate=hp.Choice('learning_rate', values = [1e-2, 1e-3, 1e-4])),\n",
        "                        loss = BinaryCrossentropy(), metrics=['accuracy'])\n",
        "        \n",
        "    return model\n"
      ],
      "execution_count": 13,
      "outputs": []
    },
    {
      "cell_type": "code",
      "metadata": {
        "colab": {
          "base_uri": "https://localhost:8080/"
        },
        "id": "CDPC9tsy7KxW",
        "outputId": "118d0c47-8a61-403e-e821-829ddcf7f65d"
      },
      "source": [
        "# Defining Tuner and performing hypertuning\n",
        "tuner = kt.tuners.randomsearch.RandomSearch(model_builder, objective='accuracy', max_trials=10, seed=42, overwrite = True)\n",
        "\n",
        "tuner.search(X_train, y_train, epochs=20)\n",
        "\n",
        "# Get the optimal hyperparameters\n",
        "best_hps=tuner.get_best_hyperparameters(num_trials=1)[0]\n",
        "\n",
        "print(f\"\"\"\n",
        "The hyperparameter search is complete. \n",
        "The optimal number of units in the input hidden LSTM layer is {best_hps.get('input_layer')}. \n",
        "The optimal amount of dropout in the input LSTM layer is {best_hps.get('Drop1')}. \n",
        "The optimal number of units in the first hidden LSTM layer is {best_hps.get('first_hidden')}. \n",
        "The optimal amount of dropout in the input LSTM layer is {best_hps.get('Drop2')}. \n",
        "The optimal number of units in the second hidden LSTM layer is {best_hps.get('second_hidden')}. \n",
        "The optimal amount of dropout in the input LSTM layer is {best_hps.get('Drop3')}. \n",
        "The optimal learning rate for the optimizer is {best_hps.get('learning_rate')}.\n",
        "\"\"\")"
      ],
      "execution_count": 14,
      "outputs": [
        {
          "output_type": "stream",
          "text": [
            "Trial 10 Complete [00h 00m 13s]\n",
            "accuracy: 0.9969558715820312\n",
            "\n",
            "Best accuracy So Far: 0.9969558715820312\n",
            "Total elapsed time: 00h 02m 15s\n",
            "INFO:tensorflow:Oracle triggered exit\n",
            "\n",
            "The hyperparameter search is complete. \n",
            "The optimal number of units in the input hidden LSTM layer is 80. \n",
            "The optimal amount of dropout in the input LSTM layer is 0.3. \n",
            "The optimal number of units in the first hidden LSTM layer is 30. \n",
            "The optimal amount of dropout in the input LSTM layer is 0.1. \n",
            "The optimal number of units in the second hidden LSTM layer is 30. \n",
            "The optimal amount of dropout in the input LSTM layer is 0.2. \n",
            "The optimal learning rate for the optimizer is 0.01.\n",
            "\n"
          ],
          "name": "stdout"
        }
      ]
    },
    {
      "cell_type": "markdown",
      "metadata": {
        "id": "QLSXWiWJ0C6D"
      },
      "source": [
        "#### Evaluating Model created using optimal values for hyperparameters and number of epochs\n",
        "- In Step One, we create the model using the best hyperparameter values identified during tuning. Then we find the epoch in which we obtain the best accuracy. \n",
        "\n",
        "- In Step Two, we recreate the model using the optimal hyperparameter values and the ideal number of training epochs. Then we evaluate the model again to compare results against the first non-tuned model with random parameters"
      ]
    },
    {
      "cell_type": "code",
      "metadata": {
        "colab": {
          "base_uri": "https://localhost:8080/"
        },
        "id": "-_kp6i_T0ALt",
        "outputId": "cf77b7f6-132d-4af2-db78-7ba88dea7c55"
      },
      "source": [
        "#Step One\n",
        "model = tuner.hypermodel.build(best_hps)\n",
        "history = model.fit(X_train, y_train, epochs=20)\n",
        "\n",
        "acc_per_epoch = history.history['accuracy']\n",
        "best_epoch = acc_per_epoch.index(max(acc_per_epoch)) + 1\n",
        "print('Best epoch: %d' % (best_epoch,))"
      ],
      "execution_count": 15,
      "outputs": [
        {
          "output_type": "stream",
          "text": [
            "WARNING:tensorflow:Layer lstm will not use cuDNN kernel since it doesn't meet the cuDNN kernel criteria. It will use generic GPU kernel as fallback when running on GPU\n",
            "WARNING:tensorflow:Layer lstm_1 will not use cuDNN kernel since it doesn't meet the cuDNN kernel criteria. It will use generic GPU kernel as fallback when running on GPU\n",
            "WARNING:tensorflow:Layer lstm_2 will not use cuDNN kernel since it doesn't meet the cuDNN kernel criteria. It will use generic GPU kernel as fallback when running on GPU\n",
            "Epoch 1/20\n",
            "21/21 [==============================] - 1s 30ms/step - loss: 0.0332 - accuracy: 0.9848\n",
            "Epoch 2/20\n",
            "21/21 [==============================] - 1s 30ms/step - loss: 0.0514 - accuracy: 0.9833\n",
            "Epoch 3/20\n",
            "21/21 [==============================] - 1s 30ms/step - loss: 0.0357 - accuracy: 0.9878\n",
            "Epoch 4/20\n",
            "21/21 [==============================] - 1s 30ms/step - loss: 0.0269 - accuracy: 0.9909\n",
            "Epoch 5/20\n",
            "21/21 [==============================] - 1s 31ms/step - loss: 0.0263 - accuracy: 0.9909\n",
            "Epoch 6/20\n",
            "21/21 [==============================] - 1s 30ms/step - loss: 0.0100 - accuracy: 0.9985\n",
            "Epoch 7/20\n",
            "21/21 [==============================] - 1s 30ms/step - loss: 0.0105 - accuracy: 0.9970\n",
            "Epoch 8/20\n",
            "21/21 [==============================] - 1s 31ms/step - loss: 0.0070 - accuracy: 0.9970\n",
            "Epoch 9/20\n",
            "21/21 [==============================] - 1s 30ms/step - loss: 0.0193 - accuracy: 0.9909\n",
            "Epoch 10/20\n",
            "21/21 [==============================] - 1s 30ms/step - loss: 0.0213 - accuracy: 0.9909\n",
            "Epoch 11/20\n",
            "21/21 [==============================] - 1s 31ms/step - loss: 0.0105 - accuracy: 0.9954\n",
            "Epoch 12/20\n",
            "21/21 [==============================] - 1s 31ms/step - loss: 0.0253 - accuracy: 0.9878\n",
            "Epoch 13/20\n",
            "21/21 [==============================] - 1s 31ms/step - loss: 0.0460 - accuracy: 0.9833\n",
            "Epoch 14/20\n",
            "21/21 [==============================] - 1s 31ms/step - loss: 0.0371 - accuracy: 0.9848\n",
            "Epoch 15/20\n",
            "21/21 [==============================] - 1s 29ms/step - loss: 0.0404 - accuracy: 0.9893\n",
            "Epoch 16/20\n",
            "21/21 [==============================] - 1s 31ms/step - loss: 0.0186 - accuracy: 0.9954\n",
            "Epoch 17/20\n",
            "21/21 [==============================] - 1s 30ms/step - loss: 0.0212 - accuracy: 0.9909\n",
            "Epoch 18/20\n",
            "21/21 [==============================] - 1s 30ms/step - loss: 0.0223 - accuracy: 0.9863\n",
            "Epoch 19/20\n",
            "21/21 [==============================] - 1s 30ms/step - loss: 0.0175 - accuracy: 0.9924\n",
            "Epoch 20/20\n",
            "21/21 [==============================] - 1s 30ms/step - loss: 0.0210 - accuracy: 0.9909\n",
            "Best epoch: 6\n"
          ],
          "name": "stdout"
        }
      ]
    },
    {
      "cell_type": "code",
      "metadata": {
        "colab": {
          "base_uri": "https://localhost:8080/"
        },
        "id": "4PMSOY9SHGw6",
        "outputId": "ea99364e-5f98-4715-ad5b-c390488df521"
      },
      "source": [
        "#Step Two\n",
        "hypermodel = tuner.hypermodel.build(best_hps)\n",
        "\n",
        "# Retrain the model\n",
        "hypermodel.fit(X_train, y_train, epochs=best_epoch)"
      ],
      "execution_count": 16,
      "outputs": [
        {
          "output_type": "stream",
          "text": [
            "WARNING:tensorflow:Layer lstm will not use cuDNN kernel since it doesn't meet the cuDNN kernel criteria. It will use generic GPU kernel as fallback when running on GPU\n",
            "WARNING:tensorflow:Layer lstm_1 will not use cuDNN kernel since it doesn't meet the cuDNN kernel criteria. It will use generic GPU kernel as fallback when running on GPU\n",
            "WARNING:tensorflow:Layer lstm_2 will not use cuDNN kernel since it doesn't meet the cuDNN kernel criteria. It will use generic GPU kernel as fallback when running on GPU\n",
            "Epoch 1/6\n",
            "21/21 [==============================] - 1s 30ms/step - loss: 0.0245 - accuracy: 0.9924\n",
            "Epoch 2/6\n",
            "21/21 [==============================] - 1s 31ms/step - loss: 0.0234 - accuracy: 0.9909\n",
            "Epoch 3/6\n",
            "21/21 [==============================] - 1s 30ms/step - loss: 0.0383 - accuracy: 0.9848\n",
            "Epoch 4/6\n",
            "21/21 [==============================] - 1s 31ms/step - loss: 0.0479 - accuracy: 0.9833\n",
            "Epoch 5/6\n",
            "21/21 [==============================] - 1s 31ms/step - loss: 0.0411 - accuracy: 0.9848\n",
            "Epoch 6/6\n",
            "21/21 [==============================] - 1s 31ms/step - loss: 0.0438 - accuracy: 0.9848\n"
          ],
          "name": "stdout"
        },
        {
          "output_type": "execute_result",
          "data": {
            "text/plain": [
              "<tensorflow.python.keras.callbacks.History at 0x7f917c096890>"
            ]
          },
          "metadata": {
            "tags": []
          },
          "execution_count": 16
        }
      ]
    },
    {
      "cell_type": "code",
      "metadata": {
        "colab": {
          "base_uri": "https://localhost:8080/",
          "height": 545
        },
        "id": "FZae3goHHgW3",
        "outputId": "105fe824-7279-435d-d294-1abf494ff87d"
      },
      "source": [
        "#Hyper Parameter Model Evaluation\n",
        "eval_result = hypermodel.evaluate(X_test, y_test)\n",
        "print(\"[test loss, test accuracy]:\", eval_result)\n",
        "\n",
        "eval_model(hypermodel, X_test, y_test)"
      ],
      "execution_count": 17,
      "outputs": [
        {
          "output_type": "stream",
          "text": [
            "21/21 [==============================] - 1s 5ms/step - loss: 0.0340 - accuracy: 0.9909\n",
            "[test loss, test accuracy]: [0.034009899944067, 0.990867555141449]\n",
            "              precision    recall  f1-score   support\n",
            "\n",
            "         0.0       0.99      0.97      0.98       180\n",
            "         1.0       0.99      1.00      0.99       477\n",
            "\n",
            "    accuracy                           0.99       657\n",
            "   macro avg       0.99      0.99      0.99       657\n",
            "weighted avg       0.99      0.99      0.99       657\n",
            "\n"
          ],
          "name": "stdout"
        },
        {
          "output_type": "display_data",
          "data": {
            "image/png": "[encoded data removed]",
            "text/plain": [
              "<Figure size 1008x360 with 1 Axes>"
            ]
          },
          "metadata": {
            "tags": [],
            "needs_background": "light"
          }
        }
      ]
    }
  ]
}